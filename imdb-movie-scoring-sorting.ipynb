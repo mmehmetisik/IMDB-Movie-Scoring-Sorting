{
 "cells": [
  {
   "cell_type": "markdown",
   "id": "980cfeab",
   "metadata": {
    "papermill": {
     "duration": 0.021765,
     "end_time": "2023-06-16T21:08:19.228043",
     "exception": false,
     "start_time": "2023-06-16T21:08:19.206278",
     "status": "completed"
    },
    "tags": []
   },
   "source": [
    "# Sorting Products\n",
    "- According to some factors, we need to sort some products or people or whatever object of focus."
   ]
  },
  {
   "cell_type": "markdown",
   "id": "7197e552",
   "metadata": {
    "papermill": {
     "duration": 0.020745,
     "end_time": "2023-06-16T21:08:19.270255",
     "exception": false,
     "start_time": "2023-06-16T21:08:19.249510",
     "status": "completed"
    },
    "tags": []
   },
   "source": [
    "# Business Problem\n",
    "- The film lists are requested to be updated by sorting the movies according to their current scores and ratings listed on the IMDb page."
   ]
  },
  {
   "cell_type": "markdown",
   "id": "1bf83ce9",
   "metadata": {
    "papermill": {
     "duration": 0.020568,
     "end_time": "2023-06-16T21:08:19.311754",
     "exception": false,
     "start_time": "2023-06-16T21:08:19.291186",
     "status": "completed"
    },
    "tags": []
   },
   "source": [
    "# Data Story\n",
    "- The dataset consists of various features related to movies found on the IMDb page, such as \"title\", \"vote_average\" and \"vote_count\".\n",
    "- We will use the variables \"title\", \"vote_average\" and \"vote_count\" in this dataset.\n",
    "\n",
    "- **title:** Name of the movie\n",
    "- **vote_average:** Average score of the movie (between 1 - 10)\n",
    "- **vote_count:** Number of people scoring"
   ]
  },
  {
   "cell_type": "code",
   "execution_count": 1,
   "id": "2d7a2424",
   "metadata": {
    "execution": {
     "iopub.execute_input": "2023-06-16T21:08:19.356118Z",
     "iopub.status.busy": "2023-06-16T21:08:19.355641Z",
     "iopub.status.idle": "2023-06-16T21:08:21.926398Z",
     "shell.execute_reply": "2023-06-16T21:08:21.925102Z"
    },
    "papermill": {
     "duration": 2.596293,
     "end_time": "2023-06-16T21:08:21.929547",
     "exception": false,
     "start_time": "2023-06-16T21:08:19.333254",
     "status": "completed"
    },
    "tags": []
   },
   "outputs": [],
   "source": [
    "# import Required Libraries\n",
    "\n",
    "import pandas as pd\n",
    "import numpy as np\n",
    "import seaborn as sns\n",
    "import datetime as dt\n",
    "import math\n",
    "import scipy.stats as st\n",
    "\n",
    "import matplotlib.pyplot as plt\n",
    "import plotly.express as px\n",
    "import warnings\n",
    "\n",
    "from sklearn.preprocessing import MinMaxScaler\n",
    "\n",
    "warnings.simplefilter(action=\"ignore\")"
   ]
  },
  {
   "cell_type": "code",
   "execution_count": 2,
   "id": "d403ca1a",
   "metadata": {
    "execution": {
     "iopub.execute_input": "2023-06-16T21:08:21.974203Z",
     "iopub.status.busy": "2023-06-16T21:08:21.973788Z",
     "iopub.status.idle": "2023-06-16T21:08:21.979867Z",
     "shell.execute_reply": "2023-06-16T21:08:21.978730Z"
    },
    "papermill": {
     "duration": 0.030969,
     "end_time": "2023-06-16T21:08:21.981989",
     "exception": false,
     "start_time": "2023-06-16T21:08:21.951020",
     "status": "completed"
    },
    "tags": []
   },
   "outputs": [],
   "source": [
    "# Adjusting Row Column Settings\n",
    "\n",
    "pd.set_option('display.max_columns', None)\n",
    "#pd.set_option('display.max_rows', None)\n",
    "pd.set_option('display.width', 500)\n",
    "pd.set_option('display.expand_frame_repr', False)\n",
    "pd.set_option('display.float_format', lambda x: '%.5f' % x)"
   ]
  },
  {
   "cell_type": "code",
   "execution_count": 3,
   "id": "d096ec2d",
   "metadata": {
    "execution": {
     "iopub.execute_input": "2023-06-16T21:08:22.028446Z",
     "iopub.status.busy": "2023-06-16T21:08:22.027660Z",
     "iopub.status.idle": "2023-06-16T21:08:23.396697Z",
     "shell.execute_reply": "2023-06-16T21:08:23.395287Z"
    },
    "papermill": {
     "duration": 1.396323,
     "end_time": "2023-06-16T21:08:23.399748",
     "exception": false,
     "start_time": "2023-06-16T21:08:22.003425",
     "status": "completed"
    },
    "tags": []
   },
   "outputs": [],
   "source": [
    "# Loading the Data Set\n",
    "\n",
    "df = pd.read_csv(\"/kaggle/input/movie-metadata/movies_metadata.csv\")"
   ]
  },
  {
   "cell_type": "code",
   "execution_count": 4,
   "id": "127fcaef",
   "metadata": {
    "execution": {
     "iopub.execute_input": "2023-06-16T21:08:23.445915Z",
     "iopub.status.busy": "2023-06-16T21:08:23.445467Z",
     "iopub.status.idle": "2023-06-16T21:08:23.487041Z",
     "shell.execute_reply": "2023-06-16T21:08:23.485798Z"
    },
    "papermill": {
     "duration": 0.067626,
     "end_time": "2023-06-16T21:08:23.490887",
     "exception": false,
     "start_time": "2023-06-16T21:08:23.423261",
     "status": "completed"
    },
    "tags": []
   },
   "outputs": [
    {
     "data": {
      "text/html": [
       "<div>\n",
       "<style scoped>\n",
       "    .dataframe tbody tr th:only-of-type {\n",
       "        vertical-align: middle;\n",
       "    }\n",
       "\n",
       "    .dataframe tbody tr th {\n",
       "        vertical-align: top;\n",
       "    }\n",
       "\n",
       "    .dataframe thead th {\n",
       "        text-align: right;\n",
       "    }\n",
       "</style>\n",
       "<table border=\"1\" class=\"dataframe\">\n",
       "  <thead>\n",
       "    <tr style=\"text-align: right;\">\n",
       "      <th></th>\n",
       "      <th>adult</th>\n",
       "      <th>belongs_to_collection</th>\n",
       "      <th>budget</th>\n",
       "      <th>genres</th>\n",
       "      <th>homepage</th>\n",
       "      <th>id</th>\n",
       "      <th>imdb_id</th>\n",
       "      <th>original_language</th>\n",
       "      <th>original_title</th>\n",
       "      <th>overview</th>\n",
       "      <th>popularity</th>\n",
       "      <th>poster_path</th>\n",
       "      <th>production_companies</th>\n",
       "      <th>production_countries</th>\n",
       "      <th>release_date</th>\n",
       "      <th>revenue</th>\n",
       "      <th>runtime</th>\n",
       "      <th>spoken_languages</th>\n",
       "      <th>status</th>\n",
       "      <th>tagline</th>\n",
       "      <th>title</th>\n",
       "      <th>video</th>\n",
       "      <th>vote_average</th>\n",
       "      <th>vote_count</th>\n",
       "    </tr>\n",
       "  </thead>\n",
       "  <tbody>\n",
       "    <tr>\n",
       "      <th>0</th>\n",
       "      <td>False</td>\n",
       "      <td>{'id': 10194, 'name': 'Toy Story Collection', ...</td>\n",
       "      <td>30000000</td>\n",
       "      <td>[{'id': 16, 'name': 'Animation'}, {'id': 35, '...</td>\n",
       "      <td>http://toystory.disney.com/toy-story</td>\n",
       "      <td>862</td>\n",
       "      <td>tt0114709</td>\n",
       "      <td>en</td>\n",
       "      <td>Toy Story</td>\n",
       "      <td>Led by Woody, Andy's toys live happily in his ...</td>\n",
       "      <td>21.94694</td>\n",
       "      <td>/rhIRbceoE9lR4veEXuwCC2wARtG.jpg</td>\n",
       "      <td>[{'name': 'Pixar Animation Studios', 'id': 3}]</td>\n",
       "      <td>[{'iso_3166_1': 'US', 'name': 'United States o...</td>\n",
       "      <td>1995-10-30</td>\n",
       "      <td>373554033.00000</td>\n",
       "      <td>81.00000</td>\n",
       "      <td>[{'iso_639_1': 'en', 'name': 'English'}]</td>\n",
       "      <td>Released</td>\n",
       "      <td>NaN</td>\n",
       "      <td>Toy Story</td>\n",
       "      <td>False</td>\n",
       "      <td>7.70000</td>\n",
       "      <td>5415.00000</td>\n",
       "    </tr>\n",
       "    <tr>\n",
       "      <th>1</th>\n",
       "      <td>False</td>\n",
       "      <td>NaN</td>\n",
       "      <td>65000000</td>\n",
       "      <td>[{'id': 12, 'name': 'Adventure'}, {'id': 14, '...</td>\n",
       "      <td>NaN</td>\n",
       "      <td>8844</td>\n",
       "      <td>tt0113497</td>\n",
       "      <td>en</td>\n",
       "      <td>Jumanji</td>\n",
       "      <td>When siblings Judy and Peter discover an encha...</td>\n",
       "      <td>17.01554</td>\n",
       "      <td>/vzmL6fP7aPKNKPRTFnZmiUfciyV.jpg</td>\n",
       "      <td>[{'name': 'TriStar Pictures', 'id': 559}, {'na...</td>\n",
       "      <td>[{'iso_3166_1': 'US', 'name': 'United States o...</td>\n",
       "      <td>1995-12-15</td>\n",
       "      <td>262797249.00000</td>\n",
       "      <td>104.00000</td>\n",
       "      <td>[{'iso_639_1': 'en', 'name': 'English'}, {'iso...</td>\n",
       "      <td>Released</td>\n",
       "      <td>Roll the dice and unleash the excitement!</td>\n",
       "      <td>Jumanji</td>\n",
       "      <td>False</td>\n",
       "      <td>6.90000</td>\n",
       "      <td>2413.00000</td>\n",
       "    </tr>\n",
       "    <tr>\n",
       "      <th>2</th>\n",
       "      <td>False</td>\n",
       "      <td>{'id': 119050, 'name': 'Grumpy Old Men Collect...</td>\n",
       "      <td>0</td>\n",
       "      <td>[{'id': 10749, 'name': 'Romance'}, {'id': 35, ...</td>\n",
       "      <td>NaN</td>\n",
       "      <td>15602</td>\n",
       "      <td>tt0113228</td>\n",
       "      <td>en</td>\n",
       "      <td>Grumpier Old Men</td>\n",
       "      <td>A family wedding reignites the ancient feud be...</td>\n",
       "      <td>11.71290</td>\n",
       "      <td>/6ksm1sjKMFLbO7UY2i6G1ju9SML.jpg</td>\n",
       "      <td>[{'name': 'Warner Bros.', 'id': 6194}, {'name'...</td>\n",
       "      <td>[{'iso_3166_1': 'US', 'name': 'United States o...</td>\n",
       "      <td>1995-12-22</td>\n",
       "      <td>0.00000</td>\n",
       "      <td>101.00000</td>\n",
       "      <td>[{'iso_639_1': 'en', 'name': 'English'}]</td>\n",
       "      <td>Released</td>\n",
       "      <td>Still Yelling. Still Fighting. Still Ready for...</td>\n",
       "      <td>Grumpier Old Men</td>\n",
       "      <td>False</td>\n",
       "      <td>6.50000</td>\n",
       "      <td>92.00000</td>\n",
       "    </tr>\n",
       "    <tr>\n",
       "      <th>3</th>\n",
       "      <td>False</td>\n",
       "      <td>NaN</td>\n",
       "      <td>16000000</td>\n",
       "      <td>[{'id': 35, 'name': 'Comedy'}, {'id': 18, 'nam...</td>\n",
       "      <td>NaN</td>\n",
       "      <td>31357</td>\n",
       "      <td>tt0114885</td>\n",
       "      <td>en</td>\n",
       "      <td>Waiting to Exhale</td>\n",
       "      <td>Cheated on, mistreated and stepped on, the wom...</td>\n",
       "      <td>3.85949</td>\n",
       "      <td>/16XOMpEaLWkrcPqSQqhTmeJuqQl.jpg</td>\n",
       "      <td>[{'name': 'Twentieth Century Fox Film Corporat...</td>\n",
       "      <td>[{'iso_3166_1': 'US', 'name': 'United States o...</td>\n",
       "      <td>1995-12-22</td>\n",
       "      <td>81452156.00000</td>\n",
       "      <td>127.00000</td>\n",
       "      <td>[{'iso_639_1': 'en', 'name': 'English'}]</td>\n",
       "      <td>Released</td>\n",
       "      <td>Friends are the people who let you be yourself...</td>\n",
       "      <td>Waiting to Exhale</td>\n",
       "      <td>False</td>\n",
       "      <td>6.10000</td>\n",
       "      <td>34.00000</td>\n",
       "    </tr>\n",
       "    <tr>\n",
       "      <th>4</th>\n",
       "      <td>False</td>\n",
       "      <td>{'id': 96871, 'name': 'Father of the Bride Col...</td>\n",
       "      <td>0</td>\n",
       "      <td>[{'id': 35, 'name': 'Comedy'}]</td>\n",
       "      <td>NaN</td>\n",
       "      <td>11862</td>\n",
       "      <td>tt0113041</td>\n",
       "      <td>en</td>\n",
       "      <td>Father of the Bride Part II</td>\n",
       "      <td>Just when George Banks has recovered from his ...</td>\n",
       "      <td>8.38752</td>\n",
       "      <td>/e64sOI48hQXyru7naBFyssKFxVd.jpg</td>\n",
       "      <td>[{'name': 'Sandollar Productions', 'id': 5842}...</td>\n",
       "      <td>[{'iso_3166_1': 'US', 'name': 'United States o...</td>\n",
       "      <td>1995-02-10</td>\n",
       "      <td>76578911.00000</td>\n",
       "      <td>106.00000</td>\n",
       "      <td>[{'iso_639_1': 'en', 'name': 'English'}]</td>\n",
       "      <td>Released</td>\n",
       "      <td>Just When His World Is Back To Normal... He's ...</td>\n",
       "      <td>Father of the Bride Part II</td>\n",
       "      <td>False</td>\n",
       "      <td>5.70000</td>\n",
       "      <td>173.00000</td>\n",
       "    </tr>\n",
       "  </tbody>\n",
       "</table>\n",
       "</div>"
      ],
      "text/plain": [
       "   adult                              belongs_to_collection    budget                                             genres                              homepage     id    imdb_id original_language               original_title                                           overview popularity                       poster_path                               production_companies                               production_countries release_date         revenue   runtime                                   spoken_languages    status                                            tagline                        title  video  vote_average  vote_count\n",
       "0  False  {'id': 10194, 'name': 'Toy Story Collection', ...  30000000  [{'id': 16, 'name': 'Animation'}, {'id': 35, '...  http://toystory.disney.com/toy-story    862  tt0114709                en                    Toy Story  Led by Woody, Andy's toys live happily in his ...   21.94694  /rhIRbceoE9lR4veEXuwCC2wARtG.jpg     [{'name': 'Pixar Animation Studios', 'id': 3}]  [{'iso_3166_1': 'US', 'name': 'United States o...   1995-10-30 373554033.00000  81.00000           [{'iso_639_1': 'en', 'name': 'English'}]  Released                                                NaN                    Toy Story  False       7.70000  5415.00000\n",
       "1  False                                                NaN  65000000  [{'id': 12, 'name': 'Adventure'}, {'id': 14, '...                                   NaN   8844  tt0113497                en                      Jumanji  When siblings Judy and Peter discover an encha...   17.01554  /vzmL6fP7aPKNKPRTFnZmiUfciyV.jpg  [{'name': 'TriStar Pictures', 'id': 559}, {'na...  [{'iso_3166_1': 'US', 'name': 'United States o...   1995-12-15 262797249.00000 104.00000  [{'iso_639_1': 'en', 'name': 'English'}, {'iso...  Released          Roll the dice and unleash the excitement!                      Jumanji  False       6.90000  2413.00000\n",
       "2  False  {'id': 119050, 'name': 'Grumpy Old Men Collect...         0  [{'id': 10749, 'name': 'Romance'}, {'id': 35, ...                                   NaN  15602  tt0113228                en             Grumpier Old Men  A family wedding reignites the ancient feud be...   11.71290  /6ksm1sjKMFLbO7UY2i6G1ju9SML.jpg  [{'name': 'Warner Bros.', 'id': 6194}, {'name'...  [{'iso_3166_1': 'US', 'name': 'United States o...   1995-12-22         0.00000 101.00000           [{'iso_639_1': 'en', 'name': 'English'}]  Released  Still Yelling. Still Fighting. Still Ready for...             Grumpier Old Men  False       6.50000    92.00000\n",
       "3  False                                                NaN  16000000  [{'id': 35, 'name': 'Comedy'}, {'id': 18, 'nam...                                   NaN  31357  tt0114885                en            Waiting to Exhale  Cheated on, mistreated and stepped on, the wom...    3.85949  /16XOMpEaLWkrcPqSQqhTmeJuqQl.jpg  [{'name': 'Twentieth Century Fox Film Corporat...  [{'iso_3166_1': 'US', 'name': 'United States o...   1995-12-22  81452156.00000 127.00000           [{'iso_639_1': 'en', 'name': 'English'}]  Released  Friends are the people who let you be yourself...            Waiting to Exhale  False       6.10000    34.00000\n",
       "4  False  {'id': 96871, 'name': 'Father of the Bride Col...         0                     [{'id': 35, 'name': 'Comedy'}]                                   NaN  11862  tt0113041                en  Father of the Bride Part II  Just when George Banks has recovered from his ...    8.38752  /e64sOI48hQXyru7naBFyssKFxVd.jpg  [{'name': 'Sandollar Productions', 'id': 5842}...  [{'iso_3166_1': 'US', 'name': 'United States o...   1995-02-10  76578911.00000 106.00000           [{'iso_639_1': 'en', 'name': 'English'}]  Released  Just When His World Is Back To Normal... He's ...  Father of the Bride Part II  False       5.70000   173.00000"
      ]
     },
     "execution_count": 4,
     "metadata": {},
     "output_type": "execute_result"
    }
   ],
   "source": [
    "df.head()"
   ]
  },
  {
   "cell_type": "code",
   "execution_count": 5,
   "id": "8472affe",
   "metadata": {
    "execution": {
     "iopub.execute_input": "2023-06-16T21:08:23.537128Z",
     "iopub.status.busy": "2023-06-16T21:08:23.536434Z",
     "iopub.status.idle": "2023-06-16T21:08:23.873449Z",
     "shell.execute_reply": "2023-06-16T21:08:23.871699Z"
    },
    "papermill": {
     "duration": 0.363058,
     "end_time": "2023-06-16T21:08:23.875901",
     "exception": false,
     "start_time": "2023-06-16T21:08:23.512843",
     "status": "completed"
    },
    "tags": []
   },
   "outputs": [
    {
     "name": "stdout",
     "output_type": "stream",
     "text": [
      "##################### Shape #####################\n",
      "(45466, 24)\n",
      "##################### Types #####################\n",
      "adult                     object\n",
      "belongs_to_collection     object\n",
      "budget                    object\n",
      "genres                    object\n",
      "homepage                  object\n",
      "id                        object\n",
      "imdb_id                   object\n",
      "original_language         object\n",
      "original_title            object\n",
      "overview                  object\n",
      "popularity                object\n",
      "poster_path               object\n",
      "production_companies      object\n",
      "production_countries      object\n",
      "release_date              object\n",
      "revenue                  float64\n",
      "runtime                  float64\n",
      "spoken_languages          object\n",
      "status                    object\n",
      "tagline                   object\n",
      "title                     object\n",
      "video                     object\n",
      "vote_average             float64\n",
      "vote_count               float64\n",
      "dtype: object\n",
      "##################### Head #####################\n",
      "   adult                              belongs_to_collection    budget                                             genres                              homepage     id    imdb_id original_language               original_title                                           overview popularity                       poster_path                               production_companies                               production_countries release_date         revenue   runtime                                   spoken_languages    status                                            tagline                        title  video  vote_average  vote_count\n",
      "0  False  {'id': 10194, 'name': 'Toy Story Collection', ...  30000000  [{'id': 16, 'name': 'Animation'}, {'id': 35, '...  http://toystory.disney.com/toy-story    862  tt0114709                en                    Toy Story  Led by Woody, Andy's toys live happily in his ...   21.94694  /rhIRbceoE9lR4veEXuwCC2wARtG.jpg     [{'name': 'Pixar Animation Studios', 'id': 3}]  [{'iso_3166_1': 'US', 'name': 'United States o...   1995-10-30 373554033.00000  81.00000           [{'iso_639_1': 'en', 'name': 'English'}]  Released                                                NaN                    Toy Story  False       7.70000  5415.00000\n",
      "1  False                                                NaN  65000000  [{'id': 12, 'name': 'Adventure'}, {'id': 14, '...                                   NaN   8844  tt0113497                en                      Jumanji  When siblings Judy and Peter discover an encha...   17.01554  /vzmL6fP7aPKNKPRTFnZmiUfciyV.jpg  [{'name': 'TriStar Pictures', 'id': 559}, {'na...  [{'iso_3166_1': 'US', 'name': 'United States o...   1995-12-15 262797249.00000 104.00000  [{'iso_639_1': 'en', 'name': 'English'}, {'iso...  Released          Roll the dice and unleash the excitement!                      Jumanji  False       6.90000  2413.00000\n",
      "2  False  {'id': 119050, 'name': 'Grumpy Old Men Collect...         0  [{'id': 10749, 'name': 'Romance'}, {'id': 35, ...                                   NaN  15602  tt0113228                en             Grumpier Old Men  A family wedding reignites the ancient feud be...   11.71290  /6ksm1sjKMFLbO7UY2i6G1ju9SML.jpg  [{'name': 'Warner Bros.', 'id': 6194}, {'name'...  [{'iso_3166_1': 'US', 'name': 'United States o...   1995-12-22         0.00000 101.00000           [{'iso_639_1': 'en', 'name': 'English'}]  Released  Still Yelling. Still Fighting. Still Ready for...             Grumpier Old Men  False       6.50000    92.00000\n",
      "3  False                                                NaN  16000000  [{'id': 35, 'name': 'Comedy'}, {'id': 18, 'nam...                                   NaN  31357  tt0114885                en            Waiting to Exhale  Cheated on, mistreated and stepped on, the wom...    3.85949  /16XOMpEaLWkrcPqSQqhTmeJuqQl.jpg  [{'name': 'Twentieth Century Fox Film Corporat...  [{'iso_3166_1': 'US', 'name': 'United States o...   1995-12-22  81452156.00000 127.00000           [{'iso_639_1': 'en', 'name': 'English'}]  Released  Friends are the people who let you be yourself...            Waiting to Exhale  False       6.10000    34.00000\n",
      "4  False  {'id': 96871, 'name': 'Father of the Bride Col...         0                     [{'id': 35, 'name': 'Comedy'}]                                   NaN  11862  tt0113041                en  Father of the Bride Part II  Just when George Banks has recovered from his ...    8.38752  /e64sOI48hQXyru7naBFyssKFxVd.jpg  [{'name': 'Sandollar Productions', 'id': 5842}...  [{'iso_3166_1': 'US', 'name': 'United States o...   1995-02-10  76578911.00000 106.00000           [{'iso_639_1': 'en', 'name': 'English'}]  Released  Just When His World Is Back To Normal... He's ...  Father of the Bride Part II  False       5.70000   173.00000\n",
      "##################### Tail #####################\n",
      "       adult belongs_to_collection budget                                             genres                              homepage      id    imdb_id original_language       original_title                                           overview popularity                       poster_path                               production_companies                               production_countries release_date  revenue   runtime                          spoken_languages    status                                     tagline                title  video  vote_average  vote_count\n",
      "45461  False                   NaN      0  [{'id': 18, 'name': 'Drama'}, {'id': 10751, 'n...  http://www.imdb.com/title/tt6209470/  439050  tt6209470                fa              رگ خواب        Rising and falling between a man and woman.   0.072051  /jldsYflnId4tTWPx8es3uzsB1I8.jpg                                                 []             [{'iso_3166_1': 'IR', 'name': 'Iran'}]          NaN  0.00000  90.00000    [{'iso_639_1': 'fa', 'name': 'فارسی'}]  Released  Rising and falling between a man and woman               Subdue  False       4.00000     1.00000\n",
      "45462  False                   NaN      0                      [{'id': 18, 'name': 'Drama'}]                                   NaN  111109  tt2028550                tl  Siglo ng Pagluluwal  An artist struggles to finish his work while a...   0.178241  /xZkmxsNmYXJbKVsTRLLx3pqGHx7.jpg             [{'name': 'Sine Olivia', 'id': 19653}]      [{'iso_3166_1': 'PH', 'name': 'Philippines'}]   2011-11-17  0.00000 360.00000         [{'iso_639_1': 'tl', 'name': ''}]  Released                                         NaN  Century of Birthing  False       9.00000     3.00000\n",
      "45463  False                   NaN      0  [{'id': 28, 'name': 'Action'}, {'id': 18, 'nam...                                   NaN   67758  tt0303758                en             Betrayal  When one of her hits goes wrong, a professiona...   0.903007  /d5bX92nDsISNhu3ZT69uHwmfCGw.jpg  [{'name': 'American World Pictures', 'id': 6165}]  [{'iso_3166_1': 'US', 'name': 'United States o...   2003-08-01  0.00000  90.00000  [{'iso_639_1': 'en', 'name': 'English'}]  Released                      A deadly game of wits.             Betrayal  False       3.80000     6.00000\n",
      "45464  False                   NaN      0                                                 []                                   NaN  227506  tt0008536                en  Satana likuyushchiy  In a small town live two brothers, one a minis...   0.003503  /aorBPO7ak8e8iJKT5OcqYxU3jlK.jpg               [{'name': 'Yermoliev', 'id': 88753}]           [{'iso_3166_1': 'RU', 'name': 'Russia'}]   1917-10-21  0.00000  87.00000                                        []  Released                                         NaN     Satan Triumphant  False       0.00000     0.00000\n",
      "45465  False                   NaN      0                                                 []                                   NaN  461257  tt6980792                en             Queerama  50 years after decriminalisation of homosexual...   0.163015  /s5UkZt6NTsrS7ZF0Rh8nzupRlIU.jpg                                                 []   [{'iso_3166_1': 'GB', 'name': 'United Kingdom'}]   2017-06-09  0.00000  75.00000  [{'iso_639_1': 'en', 'name': 'English'}]  Released                                         NaN             Queerama  False       0.00000     0.00000\n",
      "##################### NA #####################\n",
      "adult                        0\n",
      "belongs_to_collection    40972\n",
      "budget                       0\n",
      "genres                       0\n",
      "homepage                 37684\n",
      "id                           0\n",
      "imdb_id                     17\n",
      "original_language           11\n",
      "original_title               0\n",
      "overview                   954\n",
      "popularity                   5\n",
      "poster_path                386\n",
      "production_companies         3\n",
      "production_countries         3\n",
      "release_date                87\n",
      "revenue                      6\n",
      "runtime                    263\n",
      "spoken_languages             6\n",
      "status                      87\n",
      "tagline                  25054\n",
      "title                        6\n",
      "video                        6\n",
      "vote_average                 6\n",
      "vote_count                   6\n",
      "dtype: int64\n",
      "##################### Quantiles #####################\n",
      "                   count           mean            std     min      0%       5%      50%            95%             99%             100%              max\n",
      "revenue      45460.00000 11209348.53927 64332246.74065 0.00000 0.00000  0.00000  0.00000 47808918.50000 273087551.66000 2787965087.00000 2787965087.00000\n",
      "runtime      45203.00000       94.12820       38.40781 0.00000 0.00000 11.00000 95.00000      138.00000       185.00000       1256.00000       1256.00000\n",
      "vote_average 45460.00000        5.61821        1.92422 0.00000 0.00000  0.00000  6.00000        7.80000         8.70000         10.00000         10.00000\n",
      "vote_count   45460.00000      109.89734      491.31037 0.00000 0.00000  0.00000 10.00000      434.00000      2183.82000      14075.00000      14075.00000\n"
     ]
    }
   ],
   "source": [
    "# Preliminary examination of the data set\n",
    "\n",
    "def check_df(dataframe, head=5):\n",
    "    print('##################### Shape #####################')\n",
    "    print(dataframe.shape)\n",
    "    print('##################### Types #####################')\n",
    "    print(dataframe.dtypes)\n",
    "    print('##################### Head #####################')\n",
    "    print(dataframe.head(head))\n",
    "    print('##################### Tail #####################')\n",
    "    print(dataframe.tail(head))\n",
    "    print('##################### NA #####################')\n",
    "    print(dataframe.isnull().sum())\n",
    "    print('##################### Quantiles #####################')\n",
    "    print(dataframe.describe([0, 0.05, 0.50, 0.95, 0.99, 1]).T)\n",
    "\n",
    "check_df(df)"
   ]
  },
  {
   "cell_type": "code",
   "execution_count": 6,
   "id": "31245604",
   "metadata": {
    "execution": {
     "iopub.execute_input": "2023-06-16T21:08:23.922283Z",
     "iopub.status.busy": "2023-06-16T21:08:23.921867Z",
     "iopub.status.idle": "2023-06-16T21:08:23.932555Z",
     "shell.execute_reply": "2023-06-16T21:08:23.931721Z"
    },
    "papermill": {
     "duration": 0.036391,
     "end_time": "2023-06-16T21:08:23.934677",
     "exception": false,
     "start_time": "2023-06-16T21:08:23.898286",
     "status": "completed"
    },
    "tags": []
   },
   "outputs": [],
   "source": [
    "# We selected the variables we will use from the df data set and reassigned them to df.\n",
    "\n",
    "df = df[[\"title\", \"vote_average\", \"vote_count\"]]"
   ]
  },
  {
   "cell_type": "code",
   "execution_count": 7,
   "id": "4753b79f",
   "metadata": {
    "execution": {
     "iopub.execute_input": "2023-06-16T21:08:23.981345Z",
     "iopub.status.busy": "2023-06-16T21:08:23.980274Z",
     "iopub.status.idle": "2023-06-16T21:08:23.990186Z",
     "shell.execute_reply": "2023-06-16T21:08:23.989402Z"
    },
    "papermill": {
     "duration": 0.035441,
     "end_time": "2023-06-16T21:08:23.992213",
     "exception": false,
     "start_time": "2023-06-16T21:08:23.956772",
     "status": "completed"
    },
    "tags": []
   },
   "outputs": [
    {
     "data": {
      "text/html": [
       "<div>\n",
       "<style scoped>\n",
       "    .dataframe tbody tr th:only-of-type {\n",
       "        vertical-align: middle;\n",
       "    }\n",
       "\n",
       "    .dataframe tbody tr th {\n",
       "        vertical-align: top;\n",
       "    }\n",
       "\n",
       "    .dataframe thead th {\n",
       "        text-align: right;\n",
       "    }\n",
       "</style>\n",
       "<table border=\"1\" class=\"dataframe\">\n",
       "  <thead>\n",
       "    <tr style=\"text-align: right;\">\n",
       "      <th></th>\n",
       "      <th>title</th>\n",
       "      <th>vote_average</th>\n",
       "      <th>vote_count</th>\n",
       "    </tr>\n",
       "  </thead>\n",
       "  <tbody>\n",
       "    <tr>\n",
       "      <th>0</th>\n",
       "      <td>Toy Story</td>\n",
       "      <td>7.70000</td>\n",
       "      <td>5415.00000</td>\n",
       "    </tr>\n",
       "    <tr>\n",
       "      <th>1</th>\n",
       "      <td>Jumanji</td>\n",
       "      <td>6.90000</td>\n",
       "      <td>2413.00000</td>\n",
       "    </tr>\n",
       "    <tr>\n",
       "      <th>2</th>\n",
       "      <td>Grumpier Old Men</td>\n",
       "      <td>6.50000</td>\n",
       "      <td>92.00000</td>\n",
       "    </tr>\n",
       "    <tr>\n",
       "      <th>3</th>\n",
       "      <td>Waiting to Exhale</td>\n",
       "      <td>6.10000</td>\n",
       "      <td>34.00000</td>\n",
       "    </tr>\n",
       "    <tr>\n",
       "      <th>4</th>\n",
       "      <td>Father of the Bride Part II</td>\n",
       "      <td>5.70000</td>\n",
       "      <td>173.00000</td>\n",
       "    </tr>\n",
       "  </tbody>\n",
       "</table>\n",
       "</div>"
      ],
      "text/plain": [
       "                         title  vote_average  vote_count\n",
       "0                    Toy Story       7.70000  5415.00000\n",
       "1                      Jumanji       6.90000  2413.00000\n",
       "2             Grumpier Old Men       6.50000    92.00000\n",
       "3            Waiting to Exhale       6.10000    34.00000\n",
       "4  Father of the Bride Part II       5.70000   173.00000"
      ]
     },
     "execution_count": 7,
     "metadata": {},
     "output_type": "execute_result"
    }
   ],
   "source": [
    "df.head()"
   ]
  },
  {
   "cell_type": "code",
   "execution_count": 8,
   "id": "32d414d1",
   "metadata": {
    "execution": {
     "iopub.execute_input": "2023-06-16T21:08:24.039082Z",
     "iopub.status.busy": "2023-06-16T21:08:24.038699Z",
     "iopub.status.idle": "2023-06-16T21:08:24.045907Z",
     "shell.execute_reply": "2023-06-16T21:08:24.045116Z"
    },
    "papermill": {
     "duration": 0.033078,
     "end_time": "2023-06-16T21:08:24.047920",
     "exception": false,
     "start_time": "2023-06-16T21:08:24.014842",
     "status": "completed"
    },
    "tags": []
   },
   "outputs": [
    {
     "data": {
      "text/plain": [
       "(45466, 3)"
      ]
     },
     "execution_count": 8,
     "metadata": {},
     "output_type": "execute_result"
    }
   ],
   "source": [
    "df.shape"
   ]
  },
  {
   "cell_type": "markdown",
   "id": "9fab4e78",
   "metadata": {
    "papermill": {
     "duration": 0.022949,
     "end_time": "2023-06-16T21:08:24.093601",
     "exception": false,
     "start_time": "2023-06-16T21:08:24.070652",
     "status": "completed"
    },
    "tags": []
   },
   "source": [
    "# Ranking by Vote Average"
   ]
  },
  {
   "cell_type": "code",
   "execution_count": 9,
   "id": "44514551",
   "metadata": {
    "execution": {
     "iopub.execute_input": "2023-06-16T21:08:24.141590Z",
     "iopub.status.busy": "2023-06-16T21:08:24.141164Z",
     "iopub.status.idle": "2023-06-16T21:08:24.161062Z",
     "shell.execute_reply": "2023-06-16T21:08:24.159946Z"
    },
    "papermill": {
     "duration": 0.046586,
     "end_time": "2023-06-16T21:08:24.163478",
     "exception": false,
     "start_time": "2023-06-16T21:08:24.116892",
     "status": "completed"
    },
    "tags": []
   },
   "outputs": [
    {
     "data": {
      "text/html": [
       "<div>\n",
       "<style scoped>\n",
       "    .dataframe tbody tr th:only-of-type {\n",
       "        vertical-align: middle;\n",
       "    }\n",
       "\n",
       "    .dataframe tbody tr th {\n",
       "        vertical-align: top;\n",
       "    }\n",
       "\n",
       "    .dataframe thead th {\n",
       "        text-align: right;\n",
       "    }\n",
       "</style>\n",
       "<table border=\"1\" class=\"dataframe\">\n",
       "  <thead>\n",
       "    <tr style=\"text-align: right;\">\n",
       "      <th></th>\n",
       "      <th>title</th>\n",
       "      <th>vote_average</th>\n",
       "      <th>vote_count</th>\n",
       "    </tr>\n",
       "  </thead>\n",
       "  <tbody>\n",
       "    <tr>\n",
       "      <th>21642</th>\n",
       "      <td>Ice Age Columbus: Who Were the First Americans?</td>\n",
       "      <td>10.00000</td>\n",
       "      <td>1.00000</td>\n",
       "    </tr>\n",
       "    <tr>\n",
       "      <th>15710</th>\n",
       "      <td>If God Is Willing and da Creek Don't Rise</td>\n",
       "      <td>10.00000</td>\n",
       "      <td>1.00000</td>\n",
       "    </tr>\n",
       "    <tr>\n",
       "      <th>22396</th>\n",
       "      <td>Meat the Truth</td>\n",
       "      <td>10.00000</td>\n",
       "      <td>1.00000</td>\n",
       "    </tr>\n",
       "    <tr>\n",
       "      <th>22395</th>\n",
       "      <td>Marvin Hamlisch: What He Did For Love</td>\n",
       "      <td>10.00000</td>\n",
       "      <td>1.00000</td>\n",
       "    </tr>\n",
       "    <tr>\n",
       "      <th>35343</th>\n",
       "      <td>Elaine Stritch: At Liberty</td>\n",
       "      <td>10.00000</td>\n",
       "      <td>1.00000</td>\n",
       "    </tr>\n",
       "    <tr>\n",
       "      <th>186</th>\n",
       "      <td>Reckless</td>\n",
       "      <td>10.00000</td>\n",
       "      <td>1.00000</td>\n",
       "    </tr>\n",
       "    <tr>\n",
       "      <th>45047</th>\n",
       "      <td>The Human Surge</td>\n",
       "      <td>10.00000</td>\n",
       "      <td>1.00000</td>\n",
       "    </tr>\n",
       "    <tr>\n",
       "      <th>22377</th>\n",
       "      <td>The Guide</td>\n",
       "      <td>10.00000</td>\n",
       "      <td>1.00000</td>\n",
       "    </tr>\n",
       "    <tr>\n",
       "      <th>22346</th>\n",
       "      <td>هیچ کجا هیچ کس</td>\n",
       "      <td>10.00000</td>\n",
       "      <td>1.00000</td>\n",
       "    </tr>\n",
       "    <tr>\n",
       "      <th>1634</th>\n",
       "      <td>Other Voices Other Rooms</td>\n",
       "      <td>10.00000</td>\n",
       "      <td>1.00000</td>\n",
       "    </tr>\n",
       "    <tr>\n",
       "      <th>35461</th>\n",
       "      <td>Tom Brown's School Days</td>\n",
       "      <td>10.00000</td>\n",
       "      <td>1.00000</td>\n",
       "    </tr>\n",
       "    <tr>\n",
       "      <th>22255</th>\n",
       "      <td>Cowboy del Amor</td>\n",
       "      <td>10.00000</td>\n",
       "      <td>1.00000</td>\n",
       "    </tr>\n",
       "    <tr>\n",
       "      <th>45005</th>\n",
       "      <td>Fool's Day</td>\n",
       "      <td>10.00000</td>\n",
       "      <td>1.00000</td>\n",
       "    </tr>\n",
       "    <tr>\n",
       "      <th>41879</th>\n",
       "      <td>Panorama of Esplanade by Night</td>\n",
       "      <td>10.00000</td>\n",
       "      <td>1.00000</td>\n",
       "    </tr>\n",
       "    <tr>\n",
       "      <th>41845</th>\n",
       "      <td>Maula Jat</td>\n",
       "      <td>10.00000</td>\n",
       "      <td>1.00000</td>\n",
       "    </tr>\n",
       "    <tr>\n",
       "      <th>40431</th>\n",
       "      <td>People of a Feather</td>\n",
       "      <td>10.00000</td>\n",
       "      <td>1.00000</td>\n",
       "    </tr>\n",
       "    <tr>\n",
       "      <th>40442</th>\n",
       "      <td>Siccin 3: Cürmü Ask</td>\n",
       "      <td>10.00000</td>\n",
       "      <td>2.00000</td>\n",
       "    </tr>\n",
       "    <tr>\n",
       "      <th>27908</th>\n",
       "      <td>Mentor</td>\n",
       "      <td>10.00000</td>\n",
       "      <td>1.00000</td>\n",
       "    </tr>\n",
       "    <tr>\n",
       "      <th>41804</th>\n",
       "      <td>Bella Vita</td>\n",
       "      <td>10.00000</td>\n",
       "      <td>1.00000</td>\n",
       "    </tr>\n",
       "    <tr>\n",
       "      <th>41797</th>\n",
       "      <td>Campaign of Hate: Russia and Gay Propaganda</td>\n",
       "      <td>10.00000</td>\n",
       "      <td>1.00000</td>\n",
       "    </tr>\n",
       "  </tbody>\n",
       "</table>\n",
       "</div>"
      ],
      "text/plain": [
       "                                                 title  vote_average  vote_count\n",
       "21642  Ice Age Columbus: Who Were the First Americans?      10.00000     1.00000\n",
       "15710        If God Is Willing and da Creek Don't Rise      10.00000     1.00000\n",
       "22396                                   Meat the Truth      10.00000     1.00000\n",
       "22395            Marvin Hamlisch: What He Did For Love      10.00000     1.00000\n",
       "35343                       Elaine Stritch: At Liberty      10.00000     1.00000\n",
       "186                                           Reckless      10.00000     1.00000\n",
       "45047                                  The Human Surge      10.00000     1.00000\n",
       "22377                                        The Guide      10.00000     1.00000\n",
       "22346                                   هیچ کجا هیچ کس      10.00000     1.00000\n",
       "1634                          Other Voices Other Rooms      10.00000     1.00000\n",
       "35461                          Tom Brown's School Days      10.00000     1.00000\n",
       "22255                                  Cowboy del Amor      10.00000     1.00000\n",
       "45005                                       Fool's Day      10.00000     1.00000\n",
       "41879                   Panorama of Esplanade by Night      10.00000     1.00000\n",
       "41845                                        Maula Jat      10.00000     1.00000\n",
       "40431                              People of a Feather      10.00000     1.00000\n",
       "40442                              Siccin 3: Cürmü Ask      10.00000     2.00000\n",
       "27908                                           Mentor      10.00000     1.00000\n",
       "41804                                       Bella Vita      10.00000     1.00000\n",
       "41797      Campaign of Hate: Russia and Gay Propaganda      10.00000     1.00000"
      ]
     },
     "execution_count": 9,
     "metadata": {},
     "output_type": "execute_result"
    }
   ],
   "source": [
    "df.sort_values(\"vote_average\", ascending=False).head(20)"
   ]
  },
  {
   "cell_type": "code",
   "execution_count": 10,
   "id": "55dcacfc",
   "metadata": {
    "execution": {
     "iopub.execute_input": "2023-06-16T21:08:24.211495Z",
     "iopub.status.busy": "2023-06-16T21:08:24.211060Z",
     "iopub.status.idle": "2023-06-16T21:08:24.225295Z",
     "shell.execute_reply": "2023-06-16T21:08:24.224310Z"
    },
    "papermill": {
     "duration": 0.041474,
     "end_time": "2023-06-16T21:08:24.227866",
     "exception": false,
     "start_time": "2023-06-16T21:08:24.186392",
     "status": "completed"
    },
    "tags": []
   },
   "outputs": [
    {
     "data": {
      "text/plain": [
       "count   45460.00000\n",
       "mean      109.89734\n",
       "std       491.31037\n",
       "min         0.00000\n",
       "10%         1.00000\n",
       "25%         3.00000\n",
       "50%        10.00000\n",
       "70%        25.00000\n",
       "80%        50.00000\n",
       "90%       160.00000\n",
       "95%       434.00000\n",
       "99%      2183.82000\n",
       "max     14075.00000\n",
       "Name: vote_count, dtype: float64"
      ]
     },
     "execution_count": 10,
     "metadata": {},
     "output_type": "execute_result"
    }
   ],
   "source": [
    "df[\"vote_count\"].describe([0.10, 0.25, 0.50, 0.70, 0.80, 0.90, 0.95, 0.99]).T"
   ]
  },
  {
   "cell_type": "markdown",
   "id": "37f652e4",
   "metadata": {
    "papermill": {
     "duration": 0.025446,
     "end_time": "2023-06-16T21:08:24.276847",
     "exception": false,
     "start_time": "2023-06-16T21:08:24.251401",
     "status": "completed"
    },
    "tags": []
   },
   "source": [
    "**Note:** In order to use vote_count and vote_average variables together, we **standardized** the vote_count variable to be in the same range as the vote_average variable. Thus, it came between the same range (1-10). From now on, we can use both variables as ranking criteria."
   ]
  },
  {
   "cell_type": "code",
   "execution_count": 11,
   "id": "b88f656b",
   "metadata": {
    "execution": {
     "iopub.execute_input": "2023-06-16T21:08:24.326163Z",
     "iopub.status.busy": "2023-06-16T21:08:24.325076Z",
     "iopub.status.idle": "2023-06-16T21:08:24.339989Z",
     "shell.execute_reply": "2023-06-16T21:08:24.338866Z"
    },
    "papermill": {
     "duration": 0.042192,
     "end_time": "2023-06-16T21:08:24.342529",
     "exception": false,
     "start_time": "2023-06-16T21:08:24.300337",
     "status": "completed"
    },
    "tags": []
   },
   "outputs": [
    {
     "data": {
      "text/html": [
       "<div>\n",
       "<style scoped>\n",
       "    .dataframe tbody tr th:only-of-type {\n",
       "        vertical-align: middle;\n",
       "    }\n",
       "\n",
       "    .dataframe tbody tr th {\n",
       "        vertical-align: top;\n",
       "    }\n",
       "\n",
       "    .dataframe thead th {\n",
       "        text-align: right;\n",
       "    }\n",
       "</style>\n",
       "<table border=\"1\" class=\"dataframe\">\n",
       "  <thead>\n",
       "    <tr style=\"text-align: right;\">\n",
       "      <th></th>\n",
       "      <th>title</th>\n",
       "      <th>vote_average</th>\n",
       "      <th>vote_count</th>\n",
       "    </tr>\n",
       "  </thead>\n",
       "  <tbody>\n",
       "    <tr>\n",
       "      <th>10309</th>\n",
       "      <td>Dilwale Dulhania Le Jayenge</td>\n",
       "      <td>9.10000</td>\n",
       "      <td>661.00000</td>\n",
       "    </tr>\n",
       "    <tr>\n",
       "      <th>40251</th>\n",
       "      <td>Your Name.</td>\n",
       "      <td>8.50000</td>\n",
       "      <td>1030.00000</td>\n",
       "    </tr>\n",
       "    <tr>\n",
       "      <th>834</th>\n",
       "      <td>The Godfather</td>\n",
       "      <td>8.50000</td>\n",
       "      <td>6024.00000</td>\n",
       "    </tr>\n",
       "    <tr>\n",
       "      <th>314</th>\n",
       "      <td>The Shawshank Redemption</td>\n",
       "      <td>8.50000</td>\n",
       "      <td>8358.00000</td>\n",
       "    </tr>\n",
       "    <tr>\n",
       "      <th>1152</th>\n",
       "      <td>One Flew Over the Cuckoo's Nest</td>\n",
       "      <td>8.30000</td>\n",
       "      <td>3001.00000</td>\n",
       "    </tr>\n",
       "    <tr>\n",
       "      <th>1176</th>\n",
       "      <td>Psycho</td>\n",
       "      <td>8.30000</td>\n",
       "      <td>2405.00000</td>\n",
       "    </tr>\n",
       "    <tr>\n",
       "      <th>1178</th>\n",
       "      <td>The Godfather: Part II</td>\n",
       "      <td>8.30000</td>\n",
       "      <td>3418.00000</td>\n",
       "    </tr>\n",
       "    <tr>\n",
       "      <th>292</th>\n",
       "      <td>Pulp Fiction</td>\n",
       "      <td>8.30000</td>\n",
       "      <td>8670.00000</td>\n",
       "    </tr>\n",
       "    <tr>\n",
       "      <th>1184</th>\n",
       "      <td>Once Upon a Time in America</td>\n",
       "      <td>8.30000</td>\n",
       "      <td>1104.00000</td>\n",
       "    </tr>\n",
       "    <tr>\n",
       "      <th>5481</th>\n",
       "      <td>Spirited Away</td>\n",
       "      <td>8.30000</td>\n",
       "      <td>3968.00000</td>\n",
       "    </tr>\n",
       "    <tr>\n",
       "      <th>522</th>\n",
       "      <td>Schindler's List</td>\n",
       "      <td>8.30000</td>\n",
       "      <td>4436.00000</td>\n",
       "    </tr>\n",
       "    <tr>\n",
       "      <th>23673</th>\n",
       "      <td>Whiplash</td>\n",
       "      <td>8.30000</td>\n",
       "      <td>4376.00000</td>\n",
       "    </tr>\n",
       "    <tr>\n",
       "      <th>2843</th>\n",
       "      <td>Fight Club</td>\n",
       "      <td>8.30000</td>\n",
       "      <td>9678.00000</td>\n",
       "    </tr>\n",
       "    <tr>\n",
       "      <th>2211</th>\n",
       "      <td>Life Is Beautiful</td>\n",
       "      <td>8.30000</td>\n",
       "      <td>3643.00000</td>\n",
       "    </tr>\n",
       "    <tr>\n",
       "      <th>12481</th>\n",
       "      <td>The Dark Knight</td>\n",
       "      <td>8.30000</td>\n",
       "      <td>12269.00000</td>\n",
       "    </tr>\n",
       "    <tr>\n",
       "      <th>5878</th>\n",
       "      <td>City of God</td>\n",
       "      <td>8.20000</td>\n",
       "      <td>1852.00000</td>\n",
       "    </tr>\n",
       "    <tr>\n",
       "      <th>1170</th>\n",
       "      <td>GoodFellas</td>\n",
       "      <td>8.20000</td>\n",
       "      <td>3211.00000</td>\n",
       "    </tr>\n",
       "    <tr>\n",
       "      <th>1161</th>\n",
       "      <td>12 Angry Men</td>\n",
       "      <td>8.20000</td>\n",
       "      <td>2130.00000</td>\n",
       "    </tr>\n",
       "    <tr>\n",
       "      <th>351</th>\n",
       "      <td>Forrest Gump</td>\n",
       "      <td>8.20000</td>\n",
       "      <td>8147.00000</td>\n",
       "    </tr>\n",
       "    <tr>\n",
       "      <th>39386</th>\n",
       "      <td>Piper</td>\n",
       "      <td>8.20000</td>\n",
       "      <td>487.00000</td>\n",
       "    </tr>\n",
       "  </tbody>\n",
       "</table>\n",
       "</div>"
      ],
      "text/plain": [
       "                                 title  vote_average  vote_count\n",
       "10309      Dilwale Dulhania Le Jayenge       9.10000   661.00000\n",
       "40251                       Your Name.       8.50000  1030.00000\n",
       "834                      The Godfather       8.50000  6024.00000\n",
       "314           The Shawshank Redemption       8.50000  8358.00000\n",
       "1152   One Flew Over the Cuckoo's Nest       8.30000  3001.00000\n",
       "1176                            Psycho       8.30000  2405.00000\n",
       "1178            The Godfather: Part II       8.30000  3418.00000\n",
       "292                       Pulp Fiction       8.30000  8670.00000\n",
       "1184       Once Upon a Time in America       8.30000  1104.00000\n",
       "5481                     Spirited Away       8.30000  3968.00000\n",
       "522                   Schindler's List       8.30000  4436.00000\n",
       "23673                         Whiplash       8.30000  4376.00000\n",
       "2843                        Fight Club       8.30000  9678.00000\n",
       "2211                 Life Is Beautiful       8.30000  3643.00000\n",
       "12481                  The Dark Knight       8.30000 12269.00000\n",
       "5878                       City of God       8.20000  1852.00000\n",
       "1170                        GoodFellas       8.20000  3211.00000\n",
       "1161                      12 Angry Men       8.20000  2130.00000\n",
       "351                       Forrest Gump       8.20000  8147.00000\n",
       "39386                            Piper       8.20000   487.00000"
      ]
     },
     "execution_count": 11,
     "metadata": {},
     "output_type": "execute_result"
    }
   ],
   "source": [
    "# We ranked those with more than 400 votes in descending order.\n",
    "\n",
    "df[df[\"vote_count\"] > 400].sort_values(\"vote_average\", ascending=False).head(20)"
   ]
  },
  {
   "cell_type": "code",
   "execution_count": 12,
   "id": "cf119fb9",
   "metadata": {
    "execution": {
     "iopub.execute_input": "2023-06-16T21:08:24.391644Z",
     "iopub.status.busy": "2023-06-16T21:08:24.390874Z",
     "iopub.status.idle": "2023-06-16T21:08:24.401648Z",
     "shell.execute_reply": "2023-06-16T21:08:24.400826Z"
    },
    "papermill": {
     "duration": 0.037969,
     "end_time": "2023-06-16T21:08:24.404078",
     "exception": false,
     "start_time": "2023-06-16T21:08:24.366109",
     "status": "completed"
    },
    "tags": []
   },
   "outputs": [],
   "source": [
    "# We standardized the vote_count variable.\n",
    "\n",
    "df[\"vote_count_score\"] = MinMaxScaler(feature_range=(1, 10)). \\\n",
    "    fit(df[[\"vote_count\"]]). \\\n",
    "    transform(df[[\"vote_count\"]])"
   ]
  },
  {
   "cell_type": "code",
   "execution_count": 13,
   "id": "bf324984",
   "metadata": {
    "execution": {
     "iopub.execute_input": "2023-06-16T21:08:24.452868Z",
     "iopub.status.busy": "2023-06-16T21:08:24.452240Z",
     "iopub.status.idle": "2023-06-16T21:08:24.464212Z",
     "shell.execute_reply": "2023-06-16T21:08:24.463094Z"
    },
    "papermill": {
     "duration": 0.038926,
     "end_time": "2023-06-16T21:08:24.466376",
     "exception": false,
     "start_time": "2023-06-16T21:08:24.427450",
     "status": "completed"
    },
    "tags": []
   },
   "outputs": [
    {
     "data": {
      "text/html": [
       "<div>\n",
       "<style scoped>\n",
       "    .dataframe tbody tr th:only-of-type {\n",
       "        vertical-align: middle;\n",
       "    }\n",
       "\n",
       "    .dataframe tbody tr th {\n",
       "        vertical-align: top;\n",
       "    }\n",
       "\n",
       "    .dataframe thead th {\n",
       "        text-align: right;\n",
       "    }\n",
       "</style>\n",
       "<table border=\"1\" class=\"dataframe\">\n",
       "  <thead>\n",
       "    <tr style=\"text-align: right;\">\n",
       "      <th></th>\n",
       "      <th>title</th>\n",
       "      <th>vote_average</th>\n",
       "      <th>vote_count</th>\n",
       "      <th>vote_count_score</th>\n",
       "    </tr>\n",
       "  </thead>\n",
       "  <tbody>\n",
       "    <tr>\n",
       "      <th>0</th>\n",
       "      <td>Toy Story</td>\n",
       "      <td>7.70000</td>\n",
       "      <td>5415.00000</td>\n",
       "      <td>4.46252</td>\n",
       "    </tr>\n",
       "    <tr>\n",
       "      <th>1</th>\n",
       "      <td>Jumanji</td>\n",
       "      <td>6.90000</td>\n",
       "      <td>2413.00000</td>\n",
       "      <td>2.54295</td>\n",
       "    </tr>\n",
       "    <tr>\n",
       "      <th>2</th>\n",
       "      <td>Grumpier Old Men</td>\n",
       "      <td>6.50000</td>\n",
       "      <td>92.00000</td>\n",
       "      <td>1.05883</td>\n",
       "    </tr>\n",
       "    <tr>\n",
       "      <th>3</th>\n",
       "      <td>Waiting to Exhale</td>\n",
       "      <td>6.10000</td>\n",
       "      <td>34.00000</td>\n",
       "      <td>1.02174</td>\n",
       "    </tr>\n",
       "    <tr>\n",
       "      <th>4</th>\n",
       "      <td>Father of the Bride Part II</td>\n",
       "      <td>5.70000</td>\n",
       "      <td>173.00000</td>\n",
       "      <td>1.11062</td>\n",
       "    </tr>\n",
       "    <tr>\n",
       "      <th>5</th>\n",
       "      <td>Heat</td>\n",
       "      <td>7.70000</td>\n",
       "      <td>1886.00000</td>\n",
       "      <td>2.20597</td>\n",
       "    </tr>\n",
       "    <tr>\n",
       "      <th>6</th>\n",
       "      <td>Sabrina</td>\n",
       "      <td>6.20000</td>\n",
       "      <td>141.00000</td>\n",
       "      <td>1.09016</td>\n",
       "    </tr>\n",
       "    <tr>\n",
       "      <th>7</th>\n",
       "      <td>Tom and Huck</td>\n",
       "      <td>5.40000</td>\n",
       "      <td>45.00000</td>\n",
       "      <td>1.02877</td>\n",
       "    </tr>\n",
       "    <tr>\n",
       "      <th>8</th>\n",
       "      <td>Sudden Death</td>\n",
       "      <td>5.50000</td>\n",
       "      <td>174.00000</td>\n",
       "      <td>1.11126</td>\n",
       "    </tr>\n",
       "    <tr>\n",
       "      <th>9</th>\n",
       "      <td>GoldenEye</td>\n",
       "      <td>6.60000</td>\n",
       "      <td>1194.00000</td>\n",
       "      <td>1.76348</td>\n",
       "    </tr>\n",
       "    <tr>\n",
       "      <th>10</th>\n",
       "      <td>The American President</td>\n",
       "      <td>6.50000</td>\n",
       "      <td>199.00000</td>\n",
       "      <td>1.12725</td>\n",
       "    </tr>\n",
       "    <tr>\n",
       "      <th>11</th>\n",
       "      <td>Dracula: Dead and Loving It</td>\n",
       "      <td>5.70000</td>\n",
       "      <td>210.00000</td>\n",
       "      <td>1.13428</td>\n",
       "    </tr>\n",
       "    <tr>\n",
       "      <th>12</th>\n",
       "      <td>Balto</td>\n",
       "      <td>7.10000</td>\n",
       "      <td>423.00000</td>\n",
       "      <td>1.27048</td>\n",
       "    </tr>\n",
       "    <tr>\n",
       "      <th>13</th>\n",
       "      <td>Nixon</td>\n",
       "      <td>7.10000</td>\n",
       "      <td>72.00000</td>\n",
       "      <td>1.04604</td>\n",
       "    </tr>\n",
       "    <tr>\n",
       "      <th>14</th>\n",
       "      <td>Cutthroat Island</td>\n",
       "      <td>5.70000</td>\n",
       "      <td>137.00000</td>\n",
       "      <td>1.08760</td>\n",
       "    </tr>\n",
       "    <tr>\n",
       "      <th>15</th>\n",
       "      <td>Casino</td>\n",
       "      <td>7.80000</td>\n",
       "      <td>1343.00000</td>\n",
       "      <td>1.85876</td>\n",
       "    </tr>\n",
       "    <tr>\n",
       "      <th>16</th>\n",
       "      <td>Sense and Sensibility</td>\n",
       "      <td>7.20000</td>\n",
       "      <td>364.00000</td>\n",
       "      <td>1.23275</td>\n",
       "    </tr>\n",
       "    <tr>\n",
       "      <th>17</th>\n",
       "      <td>Four Rooms</td>\n",
       "      <td>6.50000</td>\n",
       "      <td>539.00000</td>\n",
       "      <td>1.34465</td>\n",
       "    </tr>\n",
       "    <tr>\n",
       "      <th>18</th>\n",
       "      <td>Ace Ventura: When Nature Calls</td>\n",
       "      <td>6.10000</td>\n",
       "      <td>1128.00000</td>\n",
       "      <td>1.72128</td>\n",
       "    </tr>\n",
       "    <tr>\n",
       "      <th>19</th>\n",
       "      <td>Money Train</td>\n",
       "      <td>5.40000</td>\n",
       "      <td>224.00000</td>\n",
       "      <td>1.14323</td>\n",
       "    </tr>\n",
       "  </tbody>\n",
       "</table>\n",
       "</div>"
      ],
      "text/plain": [
       "                             title  vote_average  vote_count  vote_count_score\n",
       "0                        Toy Story       7.70000  5415.00000           4.46252\n",
       "1                          Jumanji       6.90000  2413.00000           2.54295\n",
       "2                 Grumpier Old Men       6.50000    92.00000           1.05883\n",
       "3                Waiting to Exhale       6.10000    34.00000           1.02174\n",
       "4      Father of the Bride Part II       5.70000   173.00000           1.11062\n",
       "5                             Heat       7.70000  1886.00000           2.20597\n",
       "6                          Sabrina       6.20000   141.00000           1.09016\n",
       "7                     Tom and Huck       5.40000    45.00000           1.02877\n",
       "8                     Sudden Death       5.50000   174.00000           1.11126\n",
       "9                        GoldenEye       6.60000  1194.00000           1.76348\n",
       "10          The American President       6.50000   199.00000           1.12725\n",
       "11     Dracula: Dead and Loving It       5.70000   210.00000           1.13428\n",
       "12                           Balto       7.10000   423.00000           1.27048\n",
       "13                           Nixon       7.10000    72.00000           1.04604\n",
       "14                Cutthroat Island       5.70000   137.00000           1.08760\n",
       "15                          Casino       7.80000  1343.00000           1.85876\n",
       "16           Sense and Sensibility       7.20000   364.00000           1.23275\n",
       "17                      Four Rooms       6.50000   539.00000           1.34465\n",
       "18  Ace Ventura: When Nature Calls       6.10000  1128.00000           1.72128\n",
       "19                     Money Train       5.40000   224.00000           1.14323"
      ]
     },
     "execution_count": 13,
     "metadata": {},
     "output_type": "execute_result"
    }
   ],
   "source": [
    "df.head(20)"
   ]
  },
  {
   "cell_type": "code",
   "execution_count": 14,
   "id": "060deedf",
   "metadata": {
    "execution": {
     "iopub.execute_input": "2023-06-16T21:08:24.516268Z",
     "iopub.status.busy": "2023-06-16T21:08:24.515668Z",
     "iopub.status.idle": "2023-06-16T21:08:24.521484Z",
     "shell.execute_reply": "2023-06-16T21:08:24.520309Z"
    },
    "papermill": {
     "duration": 0.034102,
     "end_time": "2023-06-16T21:08:24.524310",
     "exception": false,
     "start_time": "2023-06-16T21:08:24.490208",
     "status": "completed"
    },
    "tags": []
   },
   "outputs": [],
   "source": [
    "# Creat a new variable\n",
    "\n",
    "df[\"average_count_score\"] = df[\"vote_average\"] * df[\"vote_count_score\"]"
   ]
  },
  {
   "cell_type": "code",
   "execution_count": 15,
   "id": "4bb9b507",
   "metadata": {
    "execution": {
     "iopub.execute_input": "2023-06-16T21:08:24.573986Z",
     "iopub.status.busy": "2023-06-16T21:08:24.573569Z",
     "iopub.status.idle": "2023-06-16T21:08:24.583840Z",
     "shell.execute_reply": "2023-06-16T21:08:24.582947Z"
    },
    "papermill": {
     "duration": 0.037506,
     "end_time": "2023-06-16T21:08:24.585906",
     "exception": false,
     "start_time": "2023-06-16T21:08:24.548400",
     "status": "completed"
    },
    "tags": []
   },
   "outputs": [
    {
     "data": {
      "text/html": [
       "<div>\n",
       "<style scoped>\n",
       "    .dataframe tbody tr th:only-of-type {\n",
       "        vertical-align: middle;\n",
       "    }\n",
       "\n",
       "    .dataframe tbody tr th {\n",
       "        vertical-align: top;\n",
       "    }\n",
       "\n",
       "    .dataframe thead th {\n",
       "        text-align: right;\n",
       "    }\n",
       "</style>\n",
       "<table border=\"1\" class=\"dataframe\">\n",
       "  <thead>\n",
       "    <tr style=\"text-align: right;\">\n",
       "      <th></th>\n",
       "      <th>title</th>\n",
       "      <th>vote_average</th>\n",
       "      <th>vote_count</th>\n",
       "      <th>vote_count_score</th>\n",
       "      <th>average_count_score</th>\n",
       "    </tr>\n",
       "  </thead>\n",
       "  <tbody>\n",
       "    <tr>\n",
       "      <th>0</th>\n",
       "      <td>Toy Story</td>\n",
       "      <td>7.70000</td>\n",
       "      <td>5415.00000</td>\n",
       "      <td>4.46252</td>\n",
       "      <td>34.36142</td>\n",
       "    </tr>\n",
       "    <tr>\n",
       "      <th>1</th>\n",
       "      <td>Jumanji</td>\n",
       "      <td>6.90000</td>\n",
       "      <td>2413.00000</td>\n",
       "      <td>2.54295</td>\n",
       "      <td>17.54634</td>\n",
       "    </tr>\n",
       "    <tr>\n",
       "      <th>2</th>\n",
       "      <td>Grumpier Old Men</td>\n",
       "      <td>6.50000</td>\n",
       "      <td>92.00000</td>\n",
       "      <td>1.05883</td>\n",
       "      <td>6.88238</td>\n",
       "    </tr>\n",
       "    <tr>\n",
       "      <th>3</th>\n",
       "      <td>Waiting to Exhale</td>\n",
       "      <td>6.10000</td>\n",
       "      <td>34.00000</td>\n",
       "      <td>1.02174</td>\n",
       "      <td>6.23262</td>\n",
       "    </tr>\n",
       "    <tr>\n",
       "      <th>4</th>\n",
       "      <td>Father of the Bride Part II</td>\n",
       "      <td>5.70000</td>\n",
       "      <td>173.00000</td>\n",
       "      <td>1.11062</td>\n",
       "      <td>6.33054</td>\n",
       "    </tr>\n",
       "  </tbody>\n",
       "</table>\n",
       "</div>"
      ],
      "text/plain": [
       "                         title  vote_average  vote_count  vote_count_score  average_count_score\n",
       "0                    Toy Story       7.70000  5415.00000           4.46252             34.36142\n",
       "1                      Jumanji       6.90000  2413.00000           2.54295             17.54634\n",
       "2             Grumpier Old Men       6.50000    92.00000           1.05883              6.88238\n",
       "3            Waiting to Exhale       6.10000    34.00000           1.02174              6.23262\n",
       "4  Father of the Bride Part II       5.70000   173.00000           1.11062              6.33054"
      ]
     },
     "execution_count": 15,
     "metadata": {},
     "output_type": "execute_result"
    }
   ],
   "source": [
    "df.head()"
   ]
  },
  {
   "cell_type": "code",
   "execution_count": 16,
   "id": "d78e9341",
   "metadata": {
    "execution": {
     "iopub.execute_input": "2023-06-16T21:08:24.637266Z",
     "iopub.status.busy": "2023-06-16T21:08:24.636664Z",
     "iopub.status.idle": "2023-06-16T21:08:24.659812Z",
     "shell.execute_reply": "2023-06-16T21:08:24.658621Z"
    },
    "papermill": {
     "duration": 0.051964,
     "end_time": "2023-06-16T21:08:24.662323",
     "exception": false,
     "start_time": "2023-06-16T21:08:24.610359",
     "status": "completed"
    },
    "tags": []
   },
   "outputs": [
    {
     "data": {
      "text/html": [
       "<div>\n",
       "<style scoped>\n",
       "    .dataframe tbody tr th:only-of-type {\n",
       "        vertical-align: middle;\n",
       "    }\n",
       "\n",
       "    .dataframe tbody tr th {\n",
       "        vertical-align: top;\n",
       "    }\n",
       "\n",
       "    .dataframe thead th {\n",
       "        text-align: right;\n",
       "    }\n",
       "</style>\n",
       "<table border=\"1\" class=\"dataframe\">\n",
       "  <thead>\n",
       "    <tr style=\"text-align: right;\">\n",
       "      <th></th>\n",
       "      <th>title</th>\n",
       "      <th>vote_average</th>\n",
       "      <th>vote_count</th>\n",
       "      <th>vote_count_score</th>\n",
       "      <th>average_count_score</th>\n",
       "    </tr>\n",
       "  </thead>\n",
       "  <tbody>\n",
       "    <tr>\n",
       "      <th>15480</th>\n",
       "      <td>Inception</td>\n",
       "      <td>8.10000</td>\n",
       "      <td>14075.00000</td>\n",
       "      <td>10.00000</td>\n",
       "      <td>81.00000</td>\n",
       "    </tr>\n",
       "    <tr>\n",
       "      <th>12481</th>\n",
       "      <td>The Dark Knight</td>\n",
       "      <td>8.30000</td>\n",
       "      <td>12269.00000</td>\n",
       "      <td>8.84519</td>\n",
       "      <td>73.41505</td>\n",
       "    </tr>\n",
       "    <tr>\n",
       "      <th>22879</th>\n",
       "      <td>Interstellar</td>\n",
       "      <td>8.10000</td>\n",
       "      <td>11187.00000</td>\n",
       "      <td>8.15332</td>\n",
       "      <td>66.04190</td>\n",
       "    </tr>\n",
       "    <tr>\n",
       "      <th>17818</th>\n",
       "      <td>The Avengers</td>\n",
       "      <td>7.40000</td>\n",
       "      <td>12000.00000</td>\n",
       "      <td>8.67318</td>\n",
       "      <td>64.18153</td>\n",
       "    </tr>\n",
       "    <tr>\n",
       "      <th>14551</th>\n",
       "      <td>Avatar</td>\n",
       "      <td>7.20000</td>\n",
       "      <td>12114.00000</td>\n",
       "      <td>8.74607</td>\n",
       "      <td>62.97174</td>\n",
       "    </tr>\n",
       "    <tr>\n",
       "      <th>26564</th>\n",
       "      <td>Deadpool</td>\n",
       "      <td>7.40000</td>\n",
       "      <td>11444.00000</td>\n",
       "      <td>8.31766</td>\n",
       "      <td>61.55065</td>\n",
       "    </tr>\n",
       "    <tr>\n",
       "      <th>2843</th>\n",
       "      <td>Fight Club</td>\n",
       "      <td>8.30000</td>\n",
       "      <td>9678.00000</td>\n",
       "      <td>7.18842</td>\n",
       "      <td>59.66388</td>\n",
       "    </tr>\n",
       "    <tr>\n",
       "      <th>20051</th>\n",
       "      <td>Django Unchained</td>\n",
       "      <td>7.80000</td>\n",
       "      <td>10297.00000</td>\n",
       "      <td>7.58423</td>\n",
       "      <td>59.15697</td>\n",
       "    </tr>\n",
       "    <tr>\n",
       "      <th>23753</th>\n",
       "      <td>Guardians of the Galaxy</td>\n",
       "      <td>7.90000</td>\n",
       "      <td>10014.00000</td>\n",
       "      <td>7.40327</td>\n",
       "      <td>58.48582</td>\n",
       "    </tr>\n",
       "    <tr>\n",
       "      <th>292</th>\n",
       "      <td>Pulp Fiction</td>\n",
       "      <td>8.30000</td>\n",
       "      <td>8670.00000</td>\n",
       "      <td>6.54387</td>\n",
       "      <td>54.31414</td>\n",
       "    </tr>\n",
       "    <tr>\n",
       "      <th>314</th>\n",
       "      <td>The Shawshank Redemption</td>\n",
       "      <td>8.50000</td>\n",
       "      <td>8358.00000</td>\n",
       "      <td>6.34437</td>\n",
       "      <td>53.92714</td>\n",
       "    </tr>\n",
       "    <tr>\n",
       "      <th>2458</th>\n",
       "      <td>The Matrix</td>\n",
       "      <td>7.90000</td>\n",
       "      <td>9079.00000</td>\n",
       "      <td>6.80540</td>\n",
       "      <td>53.76266</td>\n",
       "    </tr>\n",
       "    <tr>\n",
       "      <th>4863</th>\n",
       "      <td>The Lord of the Rings: The Fellowship of the Ring</td>\n",
       "      <td>8.00000</td>\n",
       "      <td>8892.00000</td>\n",
       "      <td>6.68583</td>\n",
       "      <td>53.48661</td>\n",
       "    </tr>\n",
       "    <tr>\n",
       "      <th>18252</th>\n",
       "      <td>The Dark Knight Rises</td>\n",
       "      <td>7.60000</td>\n",
       "      <td>9263.00000</td>\n",
       "      <td>6.92306</td>\n",
       "      <td>52.61522</td>\n",
       "    </tr>\n",
       "    <tr>\n",
       "      <th>26553</th>\n",
       "      <td>Mad Max: Fury Road</td>\n",
       "      <td>7.30000</td>\n",
       "      <td>9629.00000</td>\n",
       "      <td>7.15709</td>\n",
       "      <td>52.24674</td>\n",
       "    </tr>\n",
       "    <tr>\n",
       "      <th>351</th>\n",
       "      <td>Forrest Gump</td>\n",
       "      <td>8.20000</td>\n",
       "      <td>8147.00000</td>\n",
       "      <td>6.20945</td>\n",
       "      <td>50.91748</td>\n",
       "    </tr>\n",
       "    <tr>\n",
       "      <th>7000</th>\n",
       "      <td>The Lord of the Rings: The Return of the King</td>\n",
       "      <td>8.10000</td>\n",
       "      <td>8226.00000</td>\n",
       "      <td>6.25996</td>\n",
       "      <td>50.70571</td>\n",
       "    </tr>\n",
       "    <tr>\n",
       "      <th>12588</th>\n",
       "      <td>Iron Man</td>\n",
       "      <td>7.40000</td>\n",
       "      <td>8951.00000</td>\n",
       "      <td>6.72355</td>\n",
       "      <td>49.75429</td>\n",
       "    </tr>\n",
       "    <tr>\n",
       "      <th>18244</th>\n",
       "      <td>The Hunger Games</td>\n",
       "      <td>6.90000</td>\n",
       "      <td>9634.00000</td>\n",
       "      <td>7.16028</td>\n",
       "      <td>49.40596</td>\n",
       "    </tr>\n",
       "    <tr>\n",
       "      <th>5814</th>\n",
       "      <td>The Lord of the Rings: The Two Towers</td>\n",
       "      <td>8.00000</td>\n",
       "      <td>7641.00000</td>\n",
       "      <td>5.88590</td>\n",
       "      <td>47.08718</td>\n",
       "    </tr>\n",
       "  </tbody>\n",
       "</table>\n",
       "</div>"
      ],
      "text/plain": [
       "                                                   title  vote_average  vote_count  vote_count_score  average_count_score\n",
       "15480                                          Inception       8.10000 14075.00000          10.00000             81.00000\n",
       "12481                                    The Dark Knight       8.30000 12269.00000           8.84519             73.41505\n",
       "22879                                       Interstellar       8.10000 11187.00000           8.15332             66.04190\n",
       "17818                                       The Avengers       7.40000 12000.00000           8.67318             64.18153\n",
       "14551                                             Avatar       7.20000 12114.00000           8.74607             62.97174\n",
       "26564                                           Deadpool       7.40000 11444.00000           8.31766             61.55065\n",
       "2843                                          Fight Club       8.30000  9678.00000           7.18842             59.66388\n",
       "20051                                   Django Unchained       7.80000 10297.00000           7.58423             59.15697\n",
       "23753                            Guardians of the Galaxy       7.90000 10014.00000           7.40327             58.48582\n",
       "292                                         Pulp Fiction       8.30000  8670.00000           6.54387             54.31414\n",
       "314                             The Shawshank Redemption       8.50000  8358.00000           6.34437             53.92714\n",
       "2458                                          The Matrix       7.90000  9079.00000           6.80540             53.76266\n",
       "4863   The Lord of the Rings: The Fellowship of the Ring       8.00000  8892.00000           6.68583             53.48661\n",
       "18252                              The Dark Knight Rises       7.60000  9263.00000           6.92306             52.61522\n",
       "26553                                 Mad Max: Fury Road       7.30000  9629.00000           7.15709             52.24674\n",
       "351                                         Forrest Gump       8.20000  8147.00000           6.20945             50.91748\n",
       "7000       The Lord of the Rings: The Return of the King       8.10000  8226.00000           6.25996             50.70571\n",
       "12588                                           Iron Man       7.40000  8951.00000           6.72355             49.75429\n",
       "18244                                   The Hunger Games       6.90000  9634.00000           7.16028             49.40596\n",
       "5814               The Lord of the Rings: The Two Towers       8.00000  7641.00000           5.88590             47.08718"
      ]
     },
     "execution_count": 16,
     "metadata": {},
     "output_type": "execute_result"
    }
   ],
   "source": [
    "df.sort_values(\"average_count_score\", ascending=False).head(20)"
   ]
  },
  {
   "cell_type": "markdown",
   "id": "0f2c618b",
   "metadata": {
    "papermill": {
     "duration": 0.024248,
     "end_time": "2023-06-16T21:08:24.711228",
     "exception": false,
     "start_time": "2023-06-16T21:08:24.686980",
     "status": "completed"
    },
    "tags": []
   },
   "source": [
    "# IMDB Weighted Rating"
   ]
  },
  {
   "attachments": {
    "a2a5b1d1-39fb-4dc5-ace7-cfd27b4ff983.jpg": {
     "image/jpeg": "[encoded data removed]"
    }
   },
   "cell_type": "markdown",
   "id": "5160e756",
   "metadata": {
    "papermill": {
     "duration": 0.024324,
     "end_time": "2023-06-16T21:08:24.760782",
     "exception": false,
     "start_time": "2023-06-16T21:08:24.736458",
     "status": "completed"
    },
    "tags": []
   },
   "source": [
    "![imdb.jpg](attachment:a2a5b1d1-39fb-4dc5-ace7-cfd27b4ff983.jpg)"
   ]
  },
  {
   "cell_type": "markdown",
   "id": "f7c73938",
   "metadata": {
    "papermill": {
     "duration": 0.024518,
     "end_time": "2023-06-16T21:08:24.809771",
     "exception": false,
     "start_time": "2023-06-16T21:08:24.785253",
     "status": "completed"
    },
    "tags": []
   },
   "source": [
    "# weighted_rating = (v/(v+M) * r) + (M/(v+M) * C)\n",
    "\n",
    "- **r:** vote average\n",
    "- **v:** vote count\n",
    "- **M:** minimum votes required to be listed in the Top 250\n",
    "- **C:** the mean vote across the whole report (currently 7.0)"
   ]
  },
  {
   "cell_type": "markdown",
   "id": "231407ff",
   "metadata": {
    "papermill": {
     "duration": 0.024254,
     "end_time": "2023-06-16T21:08:24.858438",
     "exception": false,
     "start_time": "2023-06-16T21:08:24.834184",
     "status": "completed"
    },
    "tags": []
   },
   "source": [
    "# Movie 1\n",
    "\n",
    "- r = 8\n",
    "- M = 500\n",
    "- v = 1000"
   ]
  },
  {
   "cell_type": "code",
   "execution_count": 17,
   "id": "e38f2771",
   "metadata": {
    "execution": {
     "iopub.execute_input": "2023-06-16T21:08:24.909378Z",
     "iopub.status.busy": "2023-06-16T21:08:24.908925Z",
     "iopub.status.idle": "2023-06-16T21:08:24.915189Z",
     "shell.execute_reply": "2023-06-16T21:08:24.914409Z"
    },
    "papermill": {
     "duration": 0.034776,
     "end_time": "2023-06-16T21:08:24.917734",
     "exception": false,
     "start_time": "2023-06-16T21:08:24.882958",
     "status": "completed"
    },
    "tags": []
   },
   "outputs": [
    {
     "data": {
      "text/plain": [
       "5.333333333333333"
      ]
     },
     "execution_count": 17,
     "metadata": {},
     "output_type": "execute_result"
    }
   ],
   "source": [
    "(1000 / (1000+500))*8 "
   ]
  },
  {
   "cell_type": "markdown",
   "id": "3733eed8",
   "metadata": {
    "papermill": {
     "duration": 0.028226,
     "end_time": "2023-06-16T21:08:24.971834",
     "exception": false,
     "start_time": "2023-06-16T21:08:24.943608",
     "status": "completed"
    },
    "tags": []
   },
   "source": [
    "# Movie 2\n",
    "\n",
    "- r = 8\n",
    "- M = 500\n",
    "- v = 3000"
   ]
  },
  {
   "cell_type": "code",
   "execution_count": 18,
   "id": "cc3646e6",
   "metadata": {
    "execution": {
     "iopub.execute_input": "2023-06-16T21:08:25.023943Z",
     "iopub.status.busy": "2023-06-16T21:08:25.023144Z",
     "iopub.status.idle": "2023-06-16T21:08:25.030039Z",
     "shell.execute_reply": "2023-06-16T21:08:25.028724Z"
    },
    "papermill": {
     "duration": 0.036195,
     "end_time": "2023-06-16T21:08:25.032674",
     "exception": false,
     "start_time": "2023-06-16T21:08:24.996479",
     "status": "completed"
    },
    "tags": []
   },
   "outputs": [
    {
     "data": {
      "text/plain": [
       "6.857142857142857"
      ]
     },
     "execution_count": 18,
     "metadata": {},
     "output_type": "execute_result"
    }
   ],
   "source": [
    "(3000 / (3000+500))*8"
   ]
  },
  {
   "cell_type": "markdown",
   "id": "3380f732",
   "metadata": {
    "papermill": {
     "duration": 0.0246,
     "end_time": "2023-06-16T21:08:25.084726",
     "exception": false,
     "start_time": "2023-06-16T21:08:25.060126",
     "status": "completed"
    },
    "tags": []
   },
   "source": [
    "# Movie 1\n",
    "\n",
    "- r = 8\n",
    "- M = 500\n",
    "- v = 1000"
   ]
  },
  {
   "cell_type": "markdown",
   "id": "b9f12a4e",
   "metadata": {
    "papermill": {
     "duration": 0.028753,
     "end_time": "2023-06-16T21:08:25.139724",
     "exception": false,
     "start_time": "2023-06-16T21:08:25.110971",
     "status": "completed"
    },
    "tags": []
   },
   "source": [
    "**First Part**"
   ]
  },
  {
   "attachments": {
    "92d0de54-c68d-4559-9a19-d2fbcf2d41cf.png": {
     "image/png": "[encoded data removed]"
    }
   },
   "cell_type": "markdown",
   "id": "4a56c6ca",
   "metadata": {
    "papermill": {
     "duration": 0.034584,
     "end_time": "2023-06-16T21:08:25.203206",
     "exception": false,
     "start_time": "2023-06-16T21:08:25.168622",
     "status": "completed"
    },
    "tags": []
   },
   "source": [
    "![image.png](attachment:92d0de54-c68d-4559-9a19-d2fbcf2d41cf.png)"
   ]
  },
  {
   "cell_type": "code",
   "execution_count": 19,
   "id": "906f8625",
   "metadata": {
    "execution": {
     "iopub.execute_input": "2023-06-16T21:08:25.258379Z",
     "iopub.status.busy": "2023-06-16T21:08:25.257965Z",
     "iopub.status.idle": "2023-06-16T21:08:25.264836Z",
     "shell.execute_reply": "2023-06-16T21:08:25.263755Z"
    },
    "papermill": {
     "duration": 0.035532,
     "end_time": "2023-06-16T21:08:25.267174",
     "exception": false,
     "start_time": "2023-06-16T21:08:25.231642",
     "status": "completed"
    },
    "tags": []
   },
   "outputs": [
    {
     "data": {
      "text/plain": [
       "5.333333333333333"
      ]
     },
     "execution_count": 19,
     "metadata": {},
     "output_type": "execute_result"
    }
   ],
   "source": [
    "(1000 / (1000+500))*8"
   ]
  },
  {
   "cell_type": "markdown",
   "id": "305f0787",
   "metadata": {
    "papermill": {
     "duration": 0.025516,
     "end_time": "2023-06-16T21:08:25.318027",
     "exception": false,
     "start_time": "2023-06-16T21:08:25.292511",
     "status": "completed"
    },
    "tags": []
   },
   "source": []
  },
  {
   "cell_type": "markdown",
   "id": "ec9839fc",
   "metadata": {
    "papermill": {
     "duration": 0.025046,
     "end_time": "2023-06-16T21:08:25.374157",
     "exception": false,
     "start_time": "2023-06-16T21:08:25.349111",
     "status": "completed"
    },
    "tags": []
   },
   "source": [
    "**Second Part**"
   ]
  },
  {
   "attachments": {
    "19b8d99c-acc2-49c9-bece-d7b4284eff6b.png": {
     "image/png": "[encoded data removed]"
    }
   },
   "cell_type": "markdown",
   "id": "ac005e8b",
   "metadata": {
    "papermill": {
     "duration": 0.024653,
     "end_time": "2023-06-16T21:08:25.423688",
     "exception": false,
     "start_time": "2023-06-16T21:08:25.399035",
     "status": "completed"
    },
    "tags": []
   },
   "source": [
    "![image.png](attachment:19b8d99c-acc2-49c9-bece-d7b4284eff6b.png)"
   ]
  },
  {
   "cell_type": "code",
   "execution_count": 20,
   "id": "1d856bf0",
   "metadata": {
    "execution": {
     "iopub.execute_input": "2023-06-16T21:08:25.475709Z",
     "iopub.status.busy": "2023-06-16T21:08:25.475109Z",
     "iopub.status.idle": "2023-06-16T21:08:25.480849Z",
     "shell.execute_reply": "2023-06-16T21:08:25.479711Z"
    },
    "papermill": {
     "duration": 0.03429,
     "end_time": "2023-06-16T21:08:25.482937",
     "exception": false,
     "start_time": "2023-06-16T21:08:25.448647",
     "status": "completed"
    },
    "tags": []
   },
   "outputs": [
    {
     "data": {
      "text/plain": [
       "2.333333333333333"
      ]
     },
     "execution_count": 20,
     "metadata": {},
     "output_type": "execute_result"
    }
   ],
   "source": [
    "500/(1000+500) * 7"
   ]
  },
  {
   "cell_type": "code",
   "execution_count": 21,
   "id": "6ee6ab10",
   "metadata": {
    "execution": {
     "iopub.execute_input": "2023-06-16T21:08:25.536676Z",
     "iopub.status.busy": "2023-06-16T21:08:25.536079Z",
     "iopub.status.idle": "2023-06-16T21:08:25.539892Z",
     "shell.execute_reply": "2023-06-16T21:08:25.539180Z"
    },
    "papermill": {
     "duration": 0.033671,
     "end_time": "2023-06-16T21:08:25.541964",
     "exception": false,
     "start_time": "2023-06-16T21:08:25.508293",
     "status": "completed"
    },
    "tags": []
   },
   "outputs": [],
   "source": [
    "Total1 = 5.333333333333333 + 2.333333333333333"
   ]
  },
  {
   "cell_type": "code",
   "execution_count": 22,
   "id": "00923234",
   "metadata": {
    "execution": {
     "iopub.execute_input": "2023-06-16T21:08:25.594556Z",
     "iopub.status.busy": "2023-06-16T21:08:25.594135Z",
     "iopub.status.idle": "2023-06-16T21:08:25.600612Z",
     "shell.execute_reply": "2023-06-16T21:08:25.599566Z"
    },
    "papermill": {
     "duration": 0.035776,
     "end_time": "2023-06-16T21:08:25.602903",
     "exception": false,
     "start_time": "2023-06-16T21:08:25.567127",
     "status": "completed"
    },
    "tags": []
   },
   "outputs": [
    {
     "data": {
      "text/plain": [
       "7.666666666666666"
      ]
     },
     "execution_count": 22,
     "metadata": {},
     "output_type": "execute_result"
    }
   ],
   "source": [
    "Total1"
   ]
  },
  {
   "cell_type": "markdown",
   "id": "2f54e87d",
   "metadata": {
    "papermill": {
     "duration": 0.024896,
     "end_time": "2023-06-16T21:08:25.653543",
     "exception": false,
     "start_time": "2023-06-16T21:08:25.628647",
     "status": "completed"
    },
    "tags": []
   },
   "source": [
    "# Movie 2\n",
    "\n",
    "- r = 8\n",
    "- M = 500\n",
    "- v = 3000"
   ]
  },
  {
   "cell_type": "markdown",
   "id": "0cef1e6a",
   "metadata": {
    "papermill": {
     "duration": 0.025774,
     "end_time": "2023-06-16T21:08:25.704567",
     "exception": false,
     "start_time": "2023-06-16T21:08:25.678793",
     "status": "completed"
    },
    "tags": []
   },
   "source": [
    "**First Part**"
   ]
  },
  {
   "attachments": {
    "da77cdc3-3f04-4806-ba96-3c42cc7fb41e.png": {
     "image/png": "[encoded data removed]"
    }
   },
   "cell_type": "markdown",
   "id": "d356917c",
   "metadata": {
    "papermill": {
     "duration": 0.025044,
     "end_time": "2023-06-16T21:08:25.754904",
     "exception": false,
     "start_time": "2023-06-16T21:08:25.729860",
     "status": "completed"
    },
    "tags": []
   },
   "source": [
    "![image.png](attachment:da77cdc3-3f04-4806-ba96-3c42cc7fb41e.png)"
   ]
  },
  {
   "cell_type": "code",
   "execution_count": 23,
   "id": "204e10d2",
   "metadata": {
    "execution": {
     "iopub.execute_input": "2023-06-16T21:08:25.806964Z",
     "iopub.status.busy": "2023-06-16T21:08:25.806567Z",
     "iopub.status.idle": "2023-06-16T21:08:25.812486Z",
     "shell.execute_reply": "2023-06-16T21:08:25.811625Z"
    },
    "papermill": {
     "duration": 0.034718,
     "end_time": "2023-06-16T21:08:25.814637",
     "exception": false,
     "start_time": "2023-06-16T21:08:25.779919",
     "status": "completed"
    },
    "tags": []
   },
   "outputs": [
    {
     "data": {
      "text/plain": [
       "6.857142857142857"
      ]
     },
     "execution_count": 23,
     "metadata": {},
     "output_type": "execute_result"
    }
   ],
   "source": [
    "(3000 / (3000+500))*8"
   ]
  },
  {
   "cell_type": "markdown",
   "id": "e55e408e",
   "metadata": {
    "papermill": {
     "duration": 0.024942,
     "end_time": "2023-06-16T21:08:25.864989",
     "exception": false,
     "start_time": "2023-06-16T21:08:25.840047",
     "status": "completed"
    },
    "tags": []
   },
   "source": [
    "**Second Part**"
   ]
  },
  {
   "attachments": {
    "7b9398aa-3397-45d6-a416-71f4ba9a5781.png": {
     "image/png": "[encoded data removed]"
    }
   },
   "cell_type": "markdown",
   "id": "e172fcdd",
   "metadata": {
    "papermill": {
     "duration": 0.02595,
     "end_time": "2023-06-16T21:08:25.916122",
     "exception": false,
     "start_time": "2023-06-16T21:08:25.890172",
     "status": "completed"
    },
    "tags": []
   },
   "source": [
    "![image.png](attachment:7b9398aa-3397-45d6-a416-71f4ba9a5781.png)"
   ]
  },
  {
   "cell_type": "code",
   "execution_count": 24,
   "id": "ebb019b0",
   "metadata": {
    "execution": {
     "iopub.execute_input": "2023-06-16T21:08:25.969870Z",
     "iopub.status.busy": "2023-06-16T21:08:25.969166Z",
     "iopub.status.idle": "2023-06-16T21:08:25.976260Z",
     "shell.execute_reply": "2023-06-16T21:08:25.975145Z"
    },
    "papermill": {
     "duration": 0.036613,
     "end_time": "2023-06-16T21:08:25.978692",
     "exception": false,
     "start_time": "2023-06-16T21:08:25.942079",
     "status": "completed"
    },
    "tags": []
   },
   "outputs": [
    {
     "data": {
      "text/plain": [
       "1.0"
      ]
     },
     "execution_count": 24,
     "metadata": {},
     "output_type": "execute_result"
    }
   ],
   "source": [
    "500/(3000+500) * 7"
   ]
  },
  {
   "cell_type": "code",
   "execution_count": 25,
   "id": "67e8f060",
   "metadata": {
    "execution": {
     "iopub.execute_input": "2023-06-16T21:08:26.032535Z",
     "iopub.status.busy": "2023-06-16T21:08:26.032110Z",
     "iopub.status.idle": "2023-06-16T21:08:26.036750Z",
     "shell.execute_reply": "2023-06-16T21:08:26.035699Z"
    },
    "papermill": {
     "duration": 0.034612,
     "end_time": "2023-06-16T21:08:26.039051",
     "exception": false,
     "start_time": "2023-06-16T21:08:26.004439",
     "status": "completed"
    },
    "tags": []
   },
   "outputs": [],
   "source": [
    "Total2 = 6.857142857142857 + 1.0"
   ]
  },
  {
   "cell_type": "code",
   "execution_count": 26,
   "id": "18e6f303",
   "metadata": {
    "execution": {
     "iopub.execute_input": "2023-06-16T21:08:26.095465Z",
     "iopub.status.busy": "2023-06-16T21:08:26.095049Z",
     "iopub.status.idle": "2023-06-16T21:08:26.101712Z",
     "shell.execute_reply": "2023-06-16T21:08:26.100530Z"
    },
    "papermill": {
     "duration": 0.037368,
     "end_time": "2023-06-16T21:08:26.104358",
     "exception": false,
     "start_time": "2023-06-16T21:08:26.066990",
     "status": "completed"
    },
    "tags": []
   },
   "outputs": [
    {
     "data": {
      "text/plain": [
       "7.857142857142857"
      ]
     },
     "execution_count": 26,
     "metadata": {},
     "output_type": "execute_result"
    }
   ],
   "source": [
    "Total2"
   ]
  },
  {
   "cell_type": "code",
   "execution_count": 27,
   "id": "f02c0b80",
   "metadata": {
    "execution": {
     "iopub.execute_input": "2023-06-16T21:08:26.158012Z",
     "iopub.status.busy": "2023-06-16T21:08:26.157612Z",
     "iopub.status.idle": "2023-06-16T21:08:26.163604Z",
     "shell.execute_reply": "2023-06-16T21:08:26.162337Z"
    },
    "papermill": {
     "duration": 0.035831,
     "end_time": "2023-06-16T21:08:26.166144",
     "exception": false,
     "start_time": "2023-06-16T21:08:26.130313",
     "status": "completed"
    },
    "tags": []
   },
   "outputs": [],
   "source": [
    "M = 2500\n",
    "C = df['vote_average'].mean()"
   ]
  },
  {
   "cell_type": "code",
   "execution_count": 28,
   "id": "6a94efca",
   "metadata": {
    "execution": {
     "iopub.execute_input": "2023-06-16T21:08:26.220187Z",
     "iopub.status.busy": "2023-06-16T21:08:26.219788Z",
     "iopub.status.idle": "2023-06-16T21:08:26.225258Z",
     "shell.execute_reply": "2023-06-16T21:08:26.224095Z"
    },
    "papermill": {
     "duration": 0.035742,
     "end_time": "2023-06-16T21:08:26.227787",
     "exception": false,
     "start_time": "2023-06-16T21:08:26.192045",
     "status": "completed"
    },
    "tags": []
   },
   "outputs": [],
   "source": [
    "def weighted_rating(r, v, M, C):\n",
    "    return (v / (v + M) * r) + (M / (v + M) * C)"
   ]
  },
  {
   "cell_type": "code",
   "execution_count": 29,
   "id": "fd22f6a9",
   "metadata": {
    "execution": {
     "iopub.execute_input": "2023-06-16T21:08:26.281426Z",
     "iopub.status.busy": "2023-06-16T21:08:26.281044Z",
     "iopub.status.idle": "2023-06-16T21:08:26.302427Z",
     "shell.execute_reply": "2023-06-16T21:08:26.301330Z"
    },
    "papermill": {
     "duration": 0.051373,
     "end_time": "2023-06-16T21:08:26.305107",
     "exception": false,
     "start_time": "2023-06-16T21:08:26.253734",
     "status": "completed"
    },
    "tags": []
   },
   "outputs": [
    {
     "data": {
      "text/html": [
       "<div>\n",
       "<style scoped>\n",
       "    .dataframe tbody tr th:only-of-type {\n",
       "        vertical-align: middle;\n",
       "    }\n",
       "\n",
       "    .dataframe tbody tr th {\n",
       "        vertical-align: top;\n",
       "    }\n",
       "\n",
       "    .dataframe thead th {\n",
       "        text-align: right;\n",
       "    }\n",
       "</style>\n",
       "<table border=\"1\" class=\"dataframe\">\n",
       "  <thead>\n",
       "    <tr style=\"text-align: right;\">\n",
       "      <th></th>\n",
       "      <th>title</th>\n",
       "      <th>vote_average</th>\n",
       "      <th>vote_count</th>\n",
       "      <th>vote_count_score</th>\n",
       "      <th>average_count_score</th>\n",
       "    </tr>\n",
       "  </thead>\n",
       "  <tbody>\n",
       "    <tr>\n",
       "      <th>15480</th>\n",
       "      <td>Inception</td>\n",
       "      <td>8.10000</td>\n",
       "      <td>14075.00000</td>\n",
       "      <td>10.00000</td>\n",
       "      <td>81.00000</td>\n",
       "    </tr>\n",
       "    <tr>\n",
       "      <th>12481</th>\n",
       "      <td>The Dark Knight</td>\n",
       "      <td>8.30000</td>\n",
       "      <td>12269.00000</td>\n",
       "      <td>8.84519</td>\n",
       "      <td>73.41505</td>\n",
       "    </tr>\n",
       "    <tr>\n",
       "      <th>22879</th>\n",
       "      <td>Interstellar</td>\n",
       "      <td>8.10000</td>\n",
       "      <td>11187.00000</td>\n",
       "      <td>8.15332</td>\n",
       "      <td>66.04190</td>\n",
       "    </tr>\n",
       "    <tr>\n",
       "      <th>17818</th>\n",
       "      <td>The Avengers</td>\n",
       "      <td>7.40000</td>\n",
       "      <td>12000.00000</td>\n",
       "      <td>8.67318</td>\n",
       "      <td>64.18153</td>\n",
       "    </tr>\n",
       "    <tr>\n",
       "      <th>14551</th>\n",
       "      <td>Avatar</td>\n",
       "      <td>7.20000</td>\n",
       "      <td>12114.00000</td>\n",
       "      <td>8.74607</td>\n",
       "      <td>62.97174</td>\n",
       "    </tr>\n",
       "    <tr>\n",
       "      <th>26564</th>\n",
       "      <td>Deadpool</td>\n",
       "      <td>7.40000</td>\n",
       "      <td>11444.00000</td>\n",
       "      <td>8.31766</td>\n",
       "      <td>61.55065</td>\n",
       "    </tr>\n",
       "    <tr>\n",
       "      <th>2843</th>\n",
       "      <td>Fight Club</td>\n",
       "      <td>8.30000</td>\n",
       "      <td>9678.00000</td>\n",
       "      <td>7.18842</td>\n",
       "      <td>59.66388</td>\n",
       "    </tr>\n",
       "    <tr>\n",
       "      <th>20051</th>\n",
       "      <td>Django Unchained</td>\n",
       "      <td>7.80000</td>\n",
       "      <td>10297.00000</td>\n",
       "      <td>7.58423</td>\n",
       "      <td>59.15697</td>\n",
       "    </tr>\n",
       "    <tr>\n",
       "      <th>23753</th>\n",
       "      <td>Guardians of the Galaxy</td>\n",
       "      <td>7.90000</td>\n",
       "      <td>10014.00000</td>\n",
       "      <td>7.40327</td>\n",
       "      <td>58.48582</td>\n",
       "    </tr>\n",
       "    <tr>\n",
       "      <th>292</th>\n",
       "      <td>Pulp Fiction</td>\n",
       "      <td>8.30000</td>\n",
       "      <td>8670.00000</td>\n",
       "      <td>6.54387</td>\n",
       "      <td>54.31414</td>\n",
       "    </tr>\n",
       "  </tbody>\n",
       "</table>\n",
       "</div>"
      ],
      "text/plain": [
       "                         title  vote_average  vote_count  vote_count_score  average_count_score\n",
       "15480                Inception       8.10000 14075.00000          10.00000             81.00000\n",
       "12481          The Dark Knight       8.30000 12269.00000           8.84519             73.41505\n",
       "22879             Interstellar       8.10000 11187.00000           8.15332             66.04190\n",
       "17818             The Avengers       7.40000 12000.00000           8.67318             64.18153\n",
       "14551                   Avatar       7.20000 12114.00000           8.74607             62.97174\n",
       "26564                 Deadpool       7.40000 11444.00000           8.31766             61.55065\n",
       "2843                Fight Club       8.30000  9678.00000           7.18842             59.66388\n",
       "20051         Django Unchained       7.80000 10297.00000           7.58423             59.15697\n",
       "23753  Guardians of the Galaxy       7.90000 10014.00000           7.40327             58.48582\n",
       "292               Pulp Fiction       8.30000  8670.00000           6.54387             54.31414"
      ]
     },
     "execution_count": 29,
     "metadata": {},
     "output_type": "execute_result"
    }
   ],
   "source": [
    "df.sort_values(\"average_count_score\", ascending=False).head(10)"
   ]
  },
  {
   "cell_type": "code",
   "execution_count": 30,
   "id": "a4db501f",
   "metadata": {
    "execution": {
     "iopub.execute_input": "2023-06-16T21:08:26.360113Z",
     "iopub.status.busy": "2023-06-16T21:08:26.359737Z",
     "iopub.status.idle": "2023-06-16T21:08:26.366302Z",
     "shell.execute_reply": "2023-06-16T21:08:26.365368Z"
    },
    "papermill": {
     "duration": 0.037394,
     "end_time": "2023-06-16T21:08:26.368707",
     "exception": false,
     "start_time": "2023-06-16T21:08:26.331313",
     "status": "completed"
    },
    "tags": []
   },
   "outputs": [
    {
     "data": {
      "text/plain": [
       "7.080544896574546"
      ]
     },
     "execution_count": 30,
     "metadata": {},
     "output_type": "execute_result"
    }
   ],
   "source": [
    "# Our score for Deadpool\n",
    "\n",
    "weighted_rating(7.40000, 11444.00000, M, C)"
   ]
  },
  {
   "cell_type": "code",
   "execution_count": 31,
   "id": "1e340100",
   "metadata": {
    "execution": {
     "iopub.execute_input": "2023-06-16T21:08:26.422787Z",
     "iopub.status.busy": "2023-06-16T21:08:26.422374Z",
     "iopub.status.idle": "2023-06-16T21:08:26.428882Z",
     "shell.execute_reply": "2023-06-16T21:08:26.427800Z"
    },
    "papermill": {
     "duration": 0.036613,
     "end_time": "2023-06-16T21:08:26.431306",
     "exception": false,
     "start_time": "2023-06-16T21:08:26.394693",
     "status": "completed"
    },
    "tags": []
   },
   "outputs": [
    {
     "data": {
      "text/plain": [
       "7.725672279809078"
      ]
     },
     "execution_count": 31,
     "metadata": {},
     "output_type": "execute_result"
    }
   ],
   "source": [
    "# Our score for Inception\n",
    "\n",
    "weighted_rating(8.10000, 14075.00000, M, C)"
   ]
  },
  {
   "cell_type": "code",
   "execution_count": 32,
   "id": "5b2b8877",
   "metadata": {
    "execution": {
     "iopub.execute_input": "2023-06-16T21:08:26.486873Z",
     "iopub.status.busy": "2023-06-16T21:08:26.486474Z",
     "iopub.status.idle": "2023-06-16T21:08:26.493386Z",
     "shell.execute_reply": "2023-06-16T21:08:26.492292Z"
    },
    "papermill": {
     "duration": 0.037683,
     "end_time": "2023-06-16T21:08:26.495848",
     "exception": false,
     "start_time": "2023-06-16T21:08:26.458165",
     "status": "completed"
    },
    "tags": []
   },
   "outputs": [
    {
     "data": {
      "text/plain": [
       "7.83648167598411"
      ]
     },
     "execution_count": 32,
     "metadata": {},
     "output_type": "execute_result"
    }
   ],
   "source": [
    "# Our score for The Shawshank Redemption\n",
    "\n",
    "weighted_rating(8.50000, 8358.00000, M, C)"
   ]
  },
  {
   "cell_type": "code",
   "execution_count": 33,
   "id": "47ec0a46",
   "metadata": {
    "execution": {
     "iopub.execute_input": "2023-06-16T21:08:26.551188Z",
     "iopub.status.busy": "2023-06-16T21:08:26.550795Z",
     "iopub.status.idle": "2023-06-16T21:08:26.559138Z",
     "shell.execute_reply": "2023-06-16T21:08:26.558114Z"
    },
    "papermill": {
     "duration": 0.03933,
     "end_time": "2023-06-16T21:08:26.561740",
     "exception": false,
     "start_time": "2023-06-16T21:08:26.522410",
     "status": "completed"
    },
    "tags": []
   },
   "outputs": [],
   "source": [
    "df[\"weighted_rating\"] = weighted_rating(df[\"vote_average\"],\n",
    "                                        df[\"vote_count\"], M, C)"
   ]
  },
  {
   "cell_type": "code",
   "execution_count": 34,
   "id": "d1a9b5d0",
   "metadata": {
    "execution": {
     "iopub.execute_input": "2023-06-16T21:08:26.617459Z",
     "iopub.status.busy": "2023-06-16T21:08:26.617030Z",
     "iopub.status.idle": "2023-06-16T21:08:26.631294Z",
     "shell.execute_reply": "2023-06-16T21:08:26.630473Z"
    },
    "papermill": {
     "duration": 0.044505,
     "end_time": "2023-06-16T21:08:26.633388",
     "exception": false,
     "start_time": "2023-06-16T21:08:26.588883",
     "status": "completed"
    },
    "tags": []
   },
   "outputs": [
    {
     "data": {
      "text/html": [
       "<div>\n",
       "<style scoped>\n",
       "    .dataframe tbody tr th:only-of-type {\n",
       "        vertical-align: middle;\n",
       "    }\n",
       "\n",
       "    .dataframe tbody tr th {\n",
       "        vertical-align: top;\n",
       "    }\n",
       "\n",
       "    .dataframe thead th {\n",
       "        text-align: right;\n",
       "    }\n",
       "</style>\n",
       "<table border=\"1\" class=\"dataframe\">\n",
       "  <thead>\n",
       "    <tr style=\"text-align: right;\">\n",
       "      <th></th>\n",
       "      <th>title</th>\n",
       "      <th>vote_average</th>\n",
       "      <th>vote_count</th>\n",
       "      <th>vote_count_score</th>\n",
       "      <th>average_count_score</th>\n",
       "      <th>weighted_rating</th>\n",
       "    </tr>\n",
       "  </thead>\n",
       "  <tbody>\n",
       "    <tr>\n",
       "      <th>0</th>\n",
       "      <td>Toy Story</td>\n",
       "      <td>7.70000</td>\n",
       "      <td>5415.00000</td>\n",
       "      <td>4.46252</td>\n",
       "      <td>34.36142</td>\n",
       "      <td>7.04245</td>\n",
       "    </tr>\n",
       "    <tr>\n",
       "      <th>1</th>\n",
       "      <td>Jumanji</td>\n",
       "      <td>6.90000</td>\n",
       "      <td>2413.00000</td>\n",
       "      <td>2.54295</td>\n",
       "      <td>17.54634</td>\n",
       "      <td>6.24775</td>\n",
       "    </tr>\n",
       "    <tr>\n",
       "      <th>2</th>\n",
       "      <td>Grumpier Old Men</td>\n",
       "      <td>6.50000</td>\n",
       "      <td>92.00000</td>\n",
       "      <td>1.05883</td>\n",
       "      <td>6.88238</td>\n",
       "      <td>5.64951</td>\n",
       "    </tr>\n",
       "    <tr>\n",
       "      <th>3</th>\n",
       "      <td>Waiting to Exhale</td>\n",
       "      <td>6.10000</td>\n",
       "      <td>34.00000</td>\n",
       "      <td>1.02174</td>\n",
       "      <td>6.23262</td>\n",
       "      <td>5.62467</td>\n",
       "    </tr>\n",
       "    <tr>\n",
       "      <th>4</th>\n",
       "      <td>Father of the Bride Part II</td>\n",
       "      <td>5.70000</td>\n",
       "      <td>173.00000</td>\n",
       "      <td>1.11062</td>\n",
       "      <td>6.33054</td>\n",
       "      <td>5.62350</td>\n",
       "    </tr>\n",
       "    <tr>\n",
       "      <th>5</th>\n",
       "      <td>Heat</td>\n",
       "      <td>7.70000</td>\n",
       "      <td>1886.00000</td>\n",
       "      <td>2.20597</td>\n",
       "      <td>16.98595</td>\n",
       "      <td>6.51339</td>\n",
       "    </tr>\n",
       "    <tr>\n",
       "      <th>6</th>\n",
       "      <td>Sabrina</td>\n",
       "      <td>6.20000</td>\n",
       "      <td>141.00000</td>\n",
       "      <td>1.09016</td>\n",
       "      <td>6.75899</td>\n",
       "      <td>5.64927</td>\n",
       "    </tr>\n",
       "    <tr>\n",
       "      <th>7</th>\n",
       "      <td>Tom and Huck</td>\n",
       "      <td>5.40000</td>\n",
       "      <td>45.00000</td>\n",
       "      <td>1.02877</td>\n",
       "      <td>5.55538</td>\n",
       "      <td>5.61435</td>\n",
       "    </tr>\n",
       "    <tr>\n",
       "      <th>8</th>\n",
       "      <td>Sudden Death</td>\n",
       "      <td>5.50000</td>\n",
       "      <td>174.00000</td>\n",
       "      <td>1.11126</td>\n",
       "      <td>6.11194</td>\n",
       "      <td>5.61052</td>\n",
       "    </tr>\n",
       "    <tr>\n",
       "      <th>9</th>\n",
       "      <td>GoldenEye</td>\n",
       "      <td>6.60000</td>\n",
       "      <td>1194.00000</td>\n",
       "      <td>1.76348</td>\n",
       "      <td>11.63898</td>\n",
       "      <td>5.93555</td>\n",
       "    </tr>\n",
       "    <tr>\n",
       "      <th>10</th>\n",
       "      <td>The American President</td>\n",
       "      <td>6.50000</td>\n",
       "      <td>199.00000</td>\n",
       "      <td>1.12725</td>\n",
       "      <td>7.32710</td>\n",
       "      <td>5.68322</td>\n",
       "    </tr>\n",
       "    <tr>\n",
       "      <th>11</th>\n",
       "      <td>Dracula: Dead and Loving It</td>\n",
       "      <td>5.70000</td>\n",
       "      <td>210.00000</td>\n",
       "      <td>1.13428</td>\n",
       "      <td>6.46540</td>\n",
       "      <td>5.62455</td>\n",
       "    </tr>\n",
       "    <tr>\n",
       "      <th>12</th>\n",
       "      <td>Balto</td>\n",
       "      <td>7.10000</td>\n",
       "      <td>423.00000</td>\n",
       "      <td>1.27048</td>\n",
       "      <td>9.02040</td>\n",
       "      <td>5.83264</td>\n",
       "    </tr>\n",
       "    <tr>\n",
       "      <th>13</th>\n",
       "      <td>Nixon</td>\n",
       "      <td>7.10000</td>\n",
       "      <td>72.00000</td>\n",
       "      <td>1.04604</td>\n",
       "      <td>7.42688</td>\n",
       "      <td>5.65969</td>\n",
       "    </tr>\n",
       "    <tr>\n",
       "      <th>14</th>\n",
       "      <td>Cutthroat Island</td>\n",
       "      <td>5.70000</td>\n",
       "      <td>137.00000</td>\n",
       "      <td>1.08760</td>\n",
       "      <td>6.19933</td>\n",
       "      <td>5.62246</td>\n",
       "    </tr>\n",
       "    <tr>\n",
       "      <th>15</th>\n",
       "      <td>Casino</td>\n",
       "      <td>7.80000</td>\n",
       "      <td>1343.00000</td>\n",
       "      <td>1.85876</td>\n",
       "      <td>14.49830</td>\n",
       "      <td>6.38067</td>\n",
       "    </tr>\n",
       "    <tr>\n",
       "      <th>16</th>\n",
       "      <td>Sense and Sensibility</td>\n",
       "      <td>7.20000</td>\n",
       "      <td>364.00000</td>\n",
       "      <td>1.23275</td>\n",
       "      <td>8.87582</td>\n",
       "      <td>5.81925</td>\n",
       "    </tr>\n",
       "    <tr>\n",
       "      <th>17</th>\n",
       "      <td>Four Rooms</td>\n",
       "      <td>6.50000</td>\n",
       "      <td>539.00000</td>\n",
       "      <td>1.34465</td>\n",
       "      <td>8.74025</td>\n",
       "      <td>5.77460</td>\n",
       "    </tr>\n",
       "    <tr>\n",
       "      <th>18</th>\n",
       "      <td>Ace Ventura: When Nature Calls</td>\n",
       "      <td>6.10000</td>\n",
       "      <td>1128.00000</td>\n",
       "      <td>1.72128</td>\n",
       "      <td>10.49980</td>\n",
       "      <td>5.76800</td>\n",
       "    </tr>\n",
       "    <tr>\n",
       "      <th>19</th>\n",
       "      <td>Money Train</td>\n",
       "      <td>5.40000</td>\n",
       "      <td>224.00000</td>\n",
       "      <td>1.14323</td>\n",
       "      <td>6.17346</td>\n",
       "      <td>5.60026</td>\n",
       "    </tr>\n",
       "  </tbody>\n",
       "</table>\n",
       "</div>"
      ],
      "text/plain": [
       "                             title  vote_average  vote_count  vote_count_score  average_count_score  weighted_rating\n",
       "0                        Toy Story       7.70000  5415.00000           4.46252             34.36142          7.04245\n",
       "1                          Jumanji       6.90000  2413.00000           2.54295             17.54634          6.24775\n",
       "2                 Grumpier Old Men       6.50000    92.00000           1.05883              6.88238          5.64951\n",
       "3                Waiting to Exhale       6.10000    34.00000           1.02174              6.23262          5.62467\n",
       "4      Father of the Bride Part II       5.70000   173.00000           1.11062              6.33054          5.62350\n",
       "5                             Heat       7.70000  1886.00000           2.20597             16.98595          6.51339\n",
       "6                          Sabrina       6.20000   141.00000           1.09016              6.75899          5.64927\n",
       "7                     Tom and Huck       5.40000    45.00000           1.02877              5.55538          5.61435\n",
       "8                     Sudden Death       5.50000   174.00000           1.11126              6.11194          5.61052\n",
       "9                        GoldenEye       6.60000  1194.00000           1.76348             11.63898          5.93555\n",
       "10          The American President       6.50000   199.00000           1.12725              7.32710          5.68322\n",
       "11     Dracula: Dead and Loving It       5.70000   210.00000           1.13428              6.46540          5.62455\n",
       "12                           Balto       7.10000   423.00000           1.27048              9.02040          5.83264\n",
       "13                           Nixon       7.10000    72.00000           1.04604              7.42688          5.65969\n",
       "14                Cutthroat Island       5.70000   137.00000           1.08760              6.19933          5.62246\n",
       "15                          Casino       7.80000  1343.00000           1.85876             14.49830          6.38067\n",
       "16           Sense and Sensibility       7.20000   364.00000           1.23275              8.87582          5.81925\n",
       "17                      Four Rooms       6.50000   539.00000           1.34465              8.74025          5.77460\n",
       "18  Ace Ventura: When Nature Calls       6.10000  1128.00000           1.72128             10.49980          5.76800\n",
       "19                     Money Train       5.40000   224.00000           1.14323              6.17346          5.60026"
      ]
     },
     "execution_count": 34,
     "metadata": {},
     "output_type": "execute_result"
    }
   ],
   "source": [
    "df.head(20)"
   ]
  },
  {
   "cell_type": "code",
   "execution_count": 35,
   "id": "01acae21",
   "metadata": {
    "execution": {
     "iopub.execute_input": "2023-06-16T21:08:26.690105Z",
     "iopub.status.busy": "2023-06-16T21:08:26.689419Z",
     "iopub.status.idle": "2023-06-16T21:08:26.715344Z",
     "shell.execute_reply": "2023-06-16T21:08:26.713875Z"
    },
    "papermill": {
     "duration": 0.057369,
     "end_time": "2023-06-16T21:08:26.718203",
     "exception": false,
     "start_time": "2023-06-16T21:08:26.660834",
     "status": "completed"
    },
    "tags": []
   },
   "outputs": [
    {
     "data": {
      "text/html": [
       "<div>\n",
       "<style scoped>\n",
       "    .dataframe tbody tr th:only-of-type {\n",
       "        vertical-align: middle;\n",
       "    }\n",
       "\n",
       "    .dataframe tbody tr th {\n",
       "        vertical-align: top;\n",
       "    }\n",
       "\n",
       "    .dataframe thead th {\n",
       "        text-align: right;\n",
       "    }\n",
       "</style>\n",
       "<table border=\"1\" class=\"dataframe\">\n",
       "  <thead>\n",
       "    <tr style=\"text-align: right;\">\n",
       "      <th></th>\n",
       "      <th>title</th>\n",
       "      <th>vote_average</th>\n",
       "      <th>vote_count</th>\n",
       "      <th>vote_count_score</th>\n",
       "      <th>average_count_score</th>\n",
       "      <th>weighted_rating</th>\n",
       "    </tr>\n",
       "  </thead>\n",
       "  <tbody>\n",
       "    <tr>\n",
       "      <th>12481</th>\n",
       "      <td>The Dark Knight</td>\n",
       "      <td>8.30000</td>\n",
       "      <td>12269.00000</td>\n",
       "      <td>8.84519</td>\n",
       "      <td>73.41505</td>\n",
       "      <td>7.84604</td>\n",
       "    </tr>\n",
       "    <tr>\n",
       "      <th>314</th>\n",
       "      <td>The Shawshank Redemption</td>\n",
       "      <td>8.50000</td>\n",
       "      <td>8358.00000</td>\n",
       "      <td>6.34437</td>\n",
       "      <td>53.92714</td>\n",
       "      <td>7.83648</td>\n",
       "    </tr>\n",
       "    <tr>\n",
       "      <th>2843</th>\n",
       "      <td>Fight Club</td>\n",
       "      <td>8.30000</td>\n",
       "      <td>9678.00000</td>\n",
       "      <td>7.18842</td>\n",
       "      <td>59.66388</td>\n",
       "      <td>7.74946</td>\n",
       "    </tr>\n",
       "    <tr>\n",
       "      <th>15480</th>\n",
       "      <td>Inception</td>\n",
       "      <td>8.10000</td>\n",
       "      <td>14075.00000</td>\n",
       "      <td>10.00000</td>\n",
       "      <td>81.00000</td>\n",
       "      <td>7.72567</td>\n",
       "    </tr>\n",
       "    <tr>\n",
       "      <th>292</th>\n",
       "      <td>Pulp Fiction</td>\n",
       "      <td>8.30000</td>\n",
       "      <td>8670.00000</td>\n",
       "      <td>6.54387</td>\n",
       "      <td>54.31414</td>\n",
       "      <td>7.69978</td>\n",
       "    </tr>\n",
       "    <tr>\n",
       "      <th>834</th>\n",
       "      <td>The Godfather</td>\n",
       "      <td>8.50000</td>\n",
       "      <td>6024.00000</td>\n",
       "      <td>4.85194</td>\n",
       "      <td>41.24146</td>\n",
       "      <td>7.65480</td>\n",
       "    </tr>\n",
       "    <tr>\n",
       "      <th>22879</th>\n",
       "      <td>Interstellar</td>\n",
       "      <td>8.10000</td>\n",
       "      <td>11187.00000</td>\n",
       "      <td>8.15332</td>\n",
       "      <td>66.04190</td>\n",
       "      <td>7.64669</td>\n",
       "    </tr>\n",
       "    <tr>\n",
       "      <th>351</th>\n",
       "      <td>Forrest Gump</td>\n",
       "      <td>8.20000</td>\n",
       "      <td>8147.00000</td>\n",
       "      <td>6.20945</td>\n",
       "      <td>50.91748</td>\n",
       "      <td>7.59377</td>\n",
       "    </tr>\n",
       "    <tr>\n",
       "      <th>7000</th>\n",
       "      <td>The Lord of the Rings: The Return of the King</td>\n",
       "      <td>8.10000</td>\n",
       "      <td>8226.00000</td>\n",
       "      <td>6.25996</td>\n",
       "      <td>50.70571</td>\n",
       "      <td>7.52155</td>\n",
       "    </tr>\n",
       "    <tr>\n",
       "      <th>4863</th>\n",
       "      <td>The Lord of the Rings: The Fellowship of the Ring</td>\n",
       "      <td>8.00000</td>\n",
       "      <td>8892.00000</td>\n",
       "      <td>6.68583</td>\n",
       "      <td>53.48661</td>\n",
       "      <td>7.47731</td>\n",
       "    </tr>\n",
       "    <tr>\n",
       "      <th>23753</th>\n",
       "      <td>Guardians of the Galaxy</td>\n",
       "      <td>7.90000</td>\n",
       "      <td>10014.00000</td>\n",
       "      <td>7.40327</td>\n",
       "      <td>58.48582</td>\n",
       "      <td>7.44415</td>\n",
       "    </tr>\n",
       "    <tr>\n",
       "      <th>1154</th>\n",
       "      <td>The Empire Strikes Back</td>\n",
       "      <td>8.20000</td>\n",
       "      <td>5998.00000</td>\n",
       "      <td>4.83531</td>\n",
       "      <td>39.64955</td>\n",
       "      <td>7.44047</td>\n",
       "    </tr>\n",
       "    <tr>\n",
       "      <th>256</th>\n",
       "      <td>Star Wars</td>\n",
       "      <td>8.10000</td>\n",
       "      <td>6778.00000</td>\n",
       "      <td>5.33407</td>\n",
       "      <td>43.20595</td>\n",
       "      <td>7.43127</td>\n",
       "    </tr>\n",
       "    <tr>\n",
       "      <th>5814</th>\n",
       "      <td>The Lord of the Rings: The Two Towers</td>\n",
       "      <td>8.00000</td>\n",
       "      <td>7641.00000</td>\n",
       "      <td>5.88590</td>\n",
       "      <td>47.08718</td>\n",
       "      <td>7.41283</td>\n",
       "    </tr>\n",
       "    <tr>\n",
       "      <th>2458</th>\n",
       "      <td>The Matrix</td>\n",
       "      <td>7.90000</td>\n",
       "      <td>9079.00000</td>\n",
       "      <td>6.80540</td>\n",
       "      <td>53.76266</td>\n",
       "      <td>7.40734</td>\n",
       "    </tr>\n",
       "    <tr>\n",
       "      <th>18465</th>\n",
       "      <td>The Intouchables</td>\n",
       "      <td>8.20000</td>\n",
       "      <td>5410.00000</td>\n",
       "      <td>4.45933</td>\n",
       "      <td>36.56647</td>\n",
       "      <td>7.38401</td>\n",
       "    </tr>\n",
       "    <tr>\n",
       "      <th>20051</th>\n",
       "      <td>Django Unchained</td>\n",
       "      <td>7.80000</td>\n",
       "      <td>10297.00000</td>\n",
       "      <td>7.58423</td>\n",
       "      <td>59.15697</td>\n",
       "      <td>7.37377</td>\n",
       "    </tr>\n",
       "    <tr>\n",
       "      <th>46</th>\n",
       "      <td>Se7en</td>\n",
       "      <td>8.10000</td>\n",
       "      <td>5915.00000</td>\n",
       "      <td>4.78224</td>\n",
       "      <td>38.73613</td>\n",
       "      <td>7.36269</td>\n",
       "    </tr>\n",
       "    <tr>\n",
       "      <th>522</th>\n",
       "      <td>Schindler's List</td>\n",
       "      <td>8.30000</td>\n",
       "      <td>4436.00000</td>\n",
       "      <td>3.83652</td>\n",
       "      <td>31.84310</td>\n",
       "      <td>7.33338</td>\n",
       "    </tr>\n",
       "    <tr>\n",
       "      <th>23673</th>\n",
       "      <td>Whiplash</td>\n",
       "      <td>8.30000</td>\n",
       "      <td>4376.00000</td>\n",
       "      <td>3.79815</td>\n",
       "      <td>31.52467</td>\n",
       "      <td>7.32494</td>\n",
       "    </tr>\n",
       "  </tbody>\n",
       "</table>\n",
       "</div>"
      ],
      "text/plain": [
       "                                                   title  vote_average  vote_count  vote_count_score  average_count_score  weighted_rating\n",
       "12481                                    The Dark Knight       8.30000 12269.00000           8.84519             73.41505          7.84604\n",
       "314                             The Shawshank Redemption       8.50000  8358.00000           6.34437             53.92714          7.83648\n",
       "2843                                          Fight Club       8.30000  9678.00000           7.18842             59.66388          7.74946\n",
       "15480                                          Inception       8.10000 14075.00000          10.00000             81.00000          7.72567\n",
       "292                                         Pulp Fiction       8.30000  8670.00000           6.54387             54.31414          7.69978\n",
       "834                                        The Godfather       8.50000  6024.00000           4.85194             41.24146          7.65480\n",
       "22879                                       Interstellar       8.10000 11187.00000           8.15332             66.04190          7.64669\n",
       "351                                         Forrest Gump       8.20000  8147.00000           6.20945             50.91748          7.59377\n",
       "7000       The Lord of the Rings: The Return of the King       8.10000  8226.00000           6.25996             50.70571          7.52155\n",
       "4863   The Lord of the Rings: The Fellowship of the Ring       8.00000  8892.00000           6.68583             53.48661          7.47731\n",
       "23753                            Guardians of the Galaxy       7.90000 10014.00000           7.40327             58.48582          7.44415\n",
       "1154                             The Empire Strikes Back       8.20000  5998.00000           4.83531             39.64955          7.44047\n",
       "256                                            Star Wars       8.10000  6778.00000           5.33407             43.20595          7.43127\n",
       "5814               The Lord of the Rings: The Two Towers       8.00000  7641.00000           5.88590             47.08718          7.41283\n",
       "2458                                          The Matrix       7.90000  9079.00000           6.80540             53.76266          7.40734\n",
       "18465                                   The Intouchables       8.20000  5410.00000           4.45933             36.56647          7.38401\n",
       "20051                                   Django Unchained       7.80000 10297.00000           7.58423             59.15697          7.37377\n",
       "46                                                 Se7en       8.10000  5915.00000           4.78224             38.73613          7.36269\n",
       "522                                     Schindler's List       8.30000  4436.00000           3.83652             31.84310          7.33338\n",
       "23673                                           Whiplash       8.30000  4376.00000           3.79815             31.52467          7.32494"
      ]
     },
     "execution_count": 35,
     "metadata": {},
     "output_type": "execute_result"
    }
   ],
   "source": [
    "df.sort_values(\"weighted_rating\", ascending=False).head(20)"
   ]
  },
  {
   "cell_type": "markdown",
   "id": "303e7656",
   "metadata": {
    "papermill": {
     "duration": 0.027609,
     "end_time": "2023-06-16T21:08:26.774625",
     "exception": false,
     "start_time": "2023-06-16T21:08:26.747016",
     "status": "completed"
    },
    "tags": []
   },
   "source": [
    "# Bayesian Average Rating Score (BAR Score)"
   ]
  },
  {
   "cell_type": "code",
   "execution_count": 36,
   "id": "71362286",
   "metadata": {
    "execution": {
     "iopub.execute_input": "2023-06-16T21:08:26.833607Z",
     "iopub.status.busy": "2023-06-16T21:08:26.832901Z",
     "iopub.status.idle": "2023-06-16T21:08:26.841128Z",
     "shell.execute_reply": "2023-06-16T21:08:26.839999Z"
    },
    "papermill": {
     "duration": 0.040958,
     "end_time": "2023-06-16T21:08:26.843754",
     "exception": false,
     "start_time": "2023-06-16T21:08:26.802796",
     "status": "completed"
    },
    "tags": []
   },
   "outputs": [],
   "source": [
    "def bayesian_average_rating(n, confidence=0.95):\n",
    "    if sum(n) == 0:\n",
    "        return 0\n",
    "    K = len(n)\n",
    "    z = st.norm.ppf(1 - (1 - confidence) / 2)\n",
    "    N = sum(n)\n",
    "    first_part = 0.0\n",
    "    second_part = 0.0\n",
    "    for k, n_k in enumerate(n):\n",
    "        first_part += (k + 1) * (n[k] + 1) / (N + K)\n",
    "        second_part += (k + 1) * (k + 1) * (n[k] + 1) / (N + K)\n",
    "    score = first_part - z * math.sqrt((second_part - first_part * first_part) / (N + K + 1))\n",
    "    return score"
   ]
  },
  {
   "cell_type": "markdown",
   "id": "2ad300e2",
   "metadata": {
    "papermill": {
     "duration": 0.027693,
     "end_time": "2023-06-16T21:08:26.899384",
     "exception": false,
     "start_time": "2023-06-16T21:08:26.871691",
     "status": "completed"
    },
    "tags": []
   },
   "source": [
    "Note: 34733, 4355, 4704, 6561, 13515, 26183, 87368, 273082, 600260, 1295351 these numbers are the number of votes for the stars.\n",
    "\n",
    "- 34733 stars is for 1 star\n",
    "- 4355 stars for 2 star etc."
   ]
  },
  {
   "cell_type": "code",
   "execution_count": 37,
   "id": "4a7f6a97",
   "metadata": {
    "execution": {
     "iopub.execute_input": "2023-06-16T21:08:26.957275Z",
     "iopub.status.busy": "2023-06-16T21:08:26.956813Z",
     "iopub.status.idle": "2023-06-16T21:08:26.966163Z",
     "shell.execute_reply": "2023-06-16T21:08:26.965116Z"
    },
    "papermill": {
     "duration": 0.040964,
     "end_time": "2023-06-16T21:08:26.968387",
     "exception": false,
     "start_time": "2023-06-16T21:08:26.927423",
     "status": "completed"
    },
    "tags": []
   },
   "outputs": [
    {
     "data": {
      "text/plain": [
       "9.14538444560111"
      ]
     },
     "execution_count": 37,
     "metadata": {},
     "output_type": "execute_result"
    }
   ],
   "source": [
    "# for The Shawshank Redemption\n",
    "\n",
    "bayesian_average_rating([34733, 4355, 4704, 6561, 13515, 26183, 87368, 273082, 600260, 1295351])"
   ]
  },
  {
   "cell_type": "code",
   "execution_count": 38,
   "id": "bce1a2b1",
   "metadata": {
    "execution": {
     "iopub.execute_input": "2023-06-16T21:08:27.028484Z",
     "iopub.status.busy": "2023-06-16T21:08:27.027802Z",
     "iopub.status.idle": "2023-06-16T21:08:27.034762Z",
     "shell.execute_reply": "2023-06-16T21:08:27.033694Z"
    },
    "papermill": {
     "duration": 0.040327,
     "end_time": "2023-06-16T21:08:27.036944",
     "exception": false,
     "start_time": "2023-06-16T21:08:26.996617",
     "status": "completed"
    },
    "tags": []
   },
   "outputs": [
    {
     "data": {
      "text/plain": [
       "8.940007324860396"
      ]
     },
     "execution_count": 38,
     "metadata": {},
     "output_type": "execute_result"
    }
   ],
   "source": [
    "# for The God Father\n",
    "\n",
    "bayesian_average_rating([37128, 5879, 6268, 8419, 16603, 30016, 78538, 199430, 402518, 837905])"
   ]
  },
  {
   "cell_type": "code",
   "execution_count": 39,
   "id": "fefd8ab7",
   "metadata": {
    "execution": {
     "iopub.execute_input": "2023-06-16T21:08:27.095776Z",
     "iopub.status.busy": "2023-06-16T21:08:27.095291Z",
     "iopub.status.idle": "2023-06-16T21:08:27.100638Z",
     "shell.execute_reply": "2023-06-16T21:08:27.099354Z"
    },
    "papermill": {
     "duration": 0.037643,
     "end_time": "2023-06-16T21:08:27.103349",
     "exception": false,
     "start_time": "2023-06-16T21:08:27.065706",
     "status": "completed"
    },
    "tags": []
   },
   "outputs": [],
   "source": [
    "# df = pd.read_csv(\"datasets/imdb_ratings.csv\")"
   ]
  },
  {
   "cell_type": "code",
   "execution_count": 40,
   "id": "3da14233",
   "metadata": {
    "execution": {
     "iopub.execute_input": "2023-06-16T21:08:27.162144Z",
     "iopub.status.busy": "2023-06-16T21:08:27.161733Z",
     "iopub.status.idle": "2023-06-16T21:08:27.175460Z",
     "shell.execute_reply": "2023-06-16T21:08:27.174593Z"
    },
    "papermill": {
     "duration": 0.0459,
     "end_time": "2023-06-16T21:08:27.177998",
     "exception": false,
     "start_time": "2023-06-16T21:08:27.132098",
     "status": "completed"
    },
    "tags": []
   },
   "outputs": [],
   "source": [
    "df_1 = pd.read_csv(\"/kaggle/input/ratings/imdb_ratings.csv\")"
   ]
  },
  {
   "cell_type": "code",
   "execution_count": 41,
   "id": "59d72c0f",
   "metadata": {
    "execution": {
     "iopub.execute_input": "2023-06-16T21:08:27.237827Z",
     "iopub.status.busy": "2023-06-16T21:08:27.236847Z",
     "iopub.status.idle": "2023-06-16T21:08:27.253900Z",
     "shell.execute_reply": "2023-06-16T21:08:27.252640Z"
    },
    "papermill": {
     "duration": 0.049829,
     "end_time": "2023-06-16T21:08:27.256868",
     "exception": false,
     "start_time": "2023-06-16T21:08:27.207039",
     "status": "completed"
    },
    "tags": []
   },
   "outputs": [
    {
     "data": {
      "text/html": [
       "<div>\n",
       "<style scoped>\n",
       "    .dataframe tbody tr th:only-of-type {\n",
       "        vertical-align: middle;\n",
       "    }\n",
       "\n",
       "    .dataframe tbody tr th {\n",
       "        vertical-align: top;\n",
       "    }\n",
       "\n",
       "    .dataframe thead th {\n",
       "        text-align: right;\n",
       "    }\n",
       "</style>\n",
       "<table border=\"1\" class=\"dataframe\">\n",
       "  <thead>\n",
       "    <tr style=\"text-align: right;\">\n",
       "      <th></th>\n",
       "      <th>Unnamed: 0</th>\n",
       "      <th>id</th>\n",
       "      <th>movieName</th>\n",
       "      <th>rating</th>\n",
       "      <th>ten</th>\n",
       "      <th>nine</th>\n",
       "      <th>eight</th>\n",
       "      <th>seven</th>\n",
       "      <th>six</th>\n",
       "      <th>five</th>\n",
       "      <th>four</th>\n",
       "      <th>three</th>\n",
       "      <th>two</th>\n",
       "      <th>one</th>\n",
       "    </tr>\n",
       "  </thead>\n",
       "  <tbody>\n",
       "    <tr>\n",
       "      <th>0</th>\n",
       "      <td>0</td>\n",
       "      <td>111161</td>\n",
       "      <td>1.       The Shawshank Redemption (1994)</td>\n",
       "      <td>9.20000</td>\n",
       "      <td>1295382</td>\n",
       "      <td>600284</td>\n",
       "      <td>273091</td>\n",
       "      <td>87368</td>\n",
       "      <td>26184</td>\n",
       "      <td>13515</td>\n",
       "      <td>6561</td>\n",
       "      <td>4704</td>\n",
       "      <td>4355</td>\n",
       "      <td>34733</td>\n",
       "    </tr>\n",
       "    <tr>\n",
       "      <th>1</th>\n",
       "      <td>1</td>\n",
       "      <td>68646</td>\n",
       "      <td>2.       The Godfather (1972)</td>\n",
       "      <td>9.10000</td>\n",
       "      <td>837932</td>\n",
       "      <td>402527</td>\n",
       "      <td>199440</td>\n",
       "      <td>78541</td>\n",
       "      <td>30016</td>\n",
       "      <td>16603</td>\n",
       "      <td>8419</td>\n",
       "      <td>6268</td>\n",
       "      <td>5879</td>\n",
       "      <td>37128</td>\n",
       "    </tr>\n",
       "    <tr>\n",
       "      <th>2</th>\n",
       "      <td>2</td>\n",
       "      <td>71562</td>\n",
       "      <td>3.       The Godfather: Part II (1974)</td>\n",
       "      <td>9.00000</td>\n",
       "      <td>486356</td>\n",
       "      <td>324905</td>\n",
       "      <td>175507</td>\n",
       "      <td>70847</td>\n",
       "      <td>26349</td>\n",
       "      <td>12657</td>\n",
       "      <td>6210</td>\n",
       "      <td>4347</td>\n",
       "      <td>3892</td>\n",
       "      <td>20469</td>\n",
       "    </tr>\n",
       "    <tr>\n",
       "      <th>3</th>\n",
       "      <td>3</td>\n",
       "      <td>468569</td>\n",
       "      <td>4.       The Dark Knight (2008)</td>\n",
       "      <td>9.00000</td>\n",
       "      <td>1034863</td>\n",
       "      <td>649123</td>\n",
       "      <td>354610</td>\n",
       "      <td>137748</td>\n",
       "      <td>49483</td>\n",
       "      <td>23237</td>\n",
       "      <td>11429</td>\n",
       "      <td>8082</td>\n",
       "      <td>7173</td>\n",
       "      <td>30345</td>\n",
       "    </tr>\n",
       "    <tr>\n",
       "      <th>4</th>\n",
       "      <td>4</td>\n",
       "      <td>50083</td>\n",
       "      <td>5.       12 Angry Men (1957)</td>\n",
       "      <td>8.90000</td>\n",
       "      <td>246765</td>\n",
       "      <td>225437</td>\n",
       "      <td>133998</td>\n",
       "      <td>48341</td>\n",
       "      <td>15773</td>\n",
       "      <td>6278</td>\n",
       "      <td>2866</td>\n",
       "      <td>1723</td>\n",
       "      <td>1478</td>\n",
       "      <td>8318</td>\n",
       "    </tr>\n",
       "    <tr>\n",
       "      <th>5</th>\n",
       "      <td>5</td>\n",
       "      <td>108052</td>\n",
       "      <td>6.       Schindler's List (1993)</td>\n",
       "      <td>8.90000</td>\n",
       "      <td>453906</td>\n",
       "      <td>383584</td>\n",
       "      <td>220586</td>\n",
       "      <td>82367</td>\n",
       "      <td>27219</td>\n",
       "      <td>12922</td>\n",
       "      <td>6234</td>\n",
       "      <td>4572</td>\n",
       "      <td>4289</td>\n",
       "      <td>19328</td>\n",
       "    </tr>\n",
       "    <tr>\n",
       "      <th>6</th>\n",
       "      <td>6</td>\n",
       "      <td>167260</td>\n",
       "      <td>7.       The Lord of the Rings: The Return of ...</td>\n",
       "      <td>8.90000</td>\n",
       "      <td>703093</td>\n",
       "      <td>433087</td>\n",
       "      <td>270113</td>\n",
       "      <td>117411</td>\n",
       "      <td>44760</td>\n",
       "      <td>21818</td>\n",
       "      <td>10873</td>\n",
       "      <td>7987</td>\n",
       "      <td>6554</td>\n",
       "      <td>28990</td>\n",
       "    </tr>\n",
       "    <tr>\n",
       "      <th>7</th>\n",
       "      <td>7</td>\n",
       "      <td>110912</td>\n",
       "      <td>8.       Pulp Fiction (1994)</td>\n",
       "      <td>8.80000</td>\n",
       "      <td>674884</td>\n",
       "      <td>541946</td>\n",
       "      <td>332876</td>\n",
       "      <td>140886</td>\n",
       "      <td>52091</td>\n",
       "      <td>26828</td>\n",
       "      <td>14203</td>\n",
       "      <td>10425</td>\n",
       "      <td>8912</td>\n",
       "      <td>25610</td>\n",
       "    </tr>\n",
       "    <tr>\n",
       "      <th>8</th>\n",
       "      <td>8</td>\n",
       "      <td>60196</td>\n",
       "      <td>9.       Il buono, il brutto, il cattivo (1966)</td>\n",
       "      <td>8.80000</td>\n",
       "      <td>246549</td>\n",
       "      <td>199725</td>\n",
       "      <td>138309</td>\n",
       "      <td>58595</td>\n",
       "      <td>18777</td>\n",
       "      <td>8607</td>\n",
       "      <td>3903</td>\n",
       "      <td>2451</td>\n",
       "      <td>2032</td>\n",
       "      <td>10319</td>\n",
       "    </tr>\n",
       "    <tr>\n",
       "      <th>9</th>\n",
       "      <td>9</td>\n",
       "      <td>120737</td>\n",
       "      <td>10.       The Lord of the Rings: The Fellowshi...</td>\n",
       "      <td>8.80000</td>\n",
       "      <td>631020</td>\n",
       "      <td>460809</td>\n",
       "      <td>316221</td>\n",
       "      <td>132929</td>\n",
       "      <td>46699</td>\n",
       "      <td>22658</td>\n",
       "      <td>11002</td>\n",
       "      <td>8295</td>\n",
       "      <td>6911</td>\n",
       "      <td>27013</td>\n",
       "    </tr>\n",
       "  </tbody>\n",
       "</table>\n",
       "</div>"
      ],
      "text/plain": [
       "   Unnamed: 0      id                                          movieName  rating      ten    nine   eight   seven    six   five   four  three   two    one\n",
       "0           0  111161           1.       The Shawshank Redemption (1994) 9.20000  1295382  600284  273091   87368  26184  13515   6561   4704  4355  34733\n",
       "1           1   68646                      2.       The Godfather (1972) 9.10000   837932  402527  199440   78541  30016  16603   8419   6268  5879  37128\n",
       "2           2   71562             3.       The Godfather: Part II (1974) 9.00000   486356  324905  175507   70847  26349  12657   6210   4347  3892  20469\n",
       "3           3  468569                    4.       The Dark Knight (2008) 9.00000  1034863  649123  354610  137748  49483  23237  11429   8082  7173  30345\n",
       "4           4   50083                       5.       12 Angry Men (1957) 8.90000   246765  225437  133998   48341  15773   6278   2866   1723  1478   8318\n",
       "5           5  108052                   6.       Schindler's List (1993) 8.90000   453906  383584  220586   82367  27219  12922   6234   4572  4289  19328\n",
       "6           6  167260  7.       The Lord of the Rings: The Return of ... 8.90000   703093  433087  270113  117411  44760  21818  10873   7987  6554  28990\n",
       "7           7  110912                       8.       Pulp Fiction (1994) 8.80000   674884  541946  332876  140886  52091  26828  14203  10425  8912  25610\n",
       "8           8   60196    9.       Il buono, il brutto, il cattivo (1966) 8.80000   246549  199725  138309   58595  18777   8607   3903   2451  2032  10319\n",
       "9           9  120737  10.       The Lord of the Rings: The Fellowshi... 8.80000   631020  460809  316221  132929  46699  22658  11002   8295  6911  27013"
      ]
     },
     "execution_count": 41,
     "metadata": {},
     "output_type": "execute_result"
    }
   ],
   "source": [
    "df_1.head(10)"
   ]
  },
  {
   "cell_type": "code",
   "execution_count": 42,
   "id": "54459f91",
   "metadata": {
    "execution": {
     "iopub.execute_input": "2023-06-16T21:08:27.314917Z",
     "iopub.status.busy": "2023-06-16T21:08:27.314502Z",
     "iopub.status.idle": "2023-06-16T21:08:27.321508Z",
     "shell.execute_reply": "2023-06-16T21:08:27.320606Z"
    },
    "papermill": {
     "duration": 0.038812,
     "end_time": "2023-06-16T21:08:27.323924",
     "exception": false,
     "start_time": "2023-06-16T21:08:27.285112",
     "status": "completed"
    },
    "tags": []
   },
   "outputs": [],
   "source": [
    "df_1 = df_1.iloc[0:, 1:]"
   ]
  },
  {
   "cell_type": "code",
   "execution_count": 43,
   "id": "a13208e4",
   "metadata": {
    "execution": {
     "iopub.execute_input": "2023-06-16T21:08:27.383733Z",
     "iopub.status.busy": "2023-06-16T21:08:27.382987Z",
     "iopub.status.idle": "2023-06-16T21:08:27.397841Z",
     "shell.execute_reply": "2023-06-16T21:08:27.396397Z"
    },
    "papermill": {
     "duration": 0.047788,
     "end_time": "2023-06-16T21:08:27.400624",
     "exception": false,
     "start_time": "2023-06-16T21:08:27.352836",
     "status": "completed"
    },
    "tags": []
   },
   "outputs": [
    {
     "data": {
      "text/html": [
       "<div>\n",
       "<style scoped>\n",
       "    .dataframe tbody tr th:only-of-type {\n",
       "        vertical-align: middle;\n",
       "    }\n",
       "\n",
       "    .dataframe tbody tr th {\n",
       "        vertical-align: top;\n",
       "    }\n",
       "\n",
       "    .dataframe thead th {\n",
       "        text-align: right;\n",
       "    }\n",
       "</style>\n",
       "<table border=\"1\" class=\"dataframe\">\n",
       "  <thead>\n",
       "    <tr style=\"text-align: right;\">\n",
       "      <th></th>\n",
       "      <th>id</th>\n",
       "      <th>movieName</th>\n",
       "      <th>rating</th>\n",
       "      <th>ten</th>\n",
       "      <th>nine</th>\n",
       "      <th>eight</th>\n",
       "      <th>seven</th>\n",
       "      <th>six</th>\n",
       "      <th>five</th>\n",
       "      <th>four</th>\n",
       "      <th>three</th>\n",
       "      <th>two</th>\n",
       "      <th>one</th>\n",
       "    </tr>\n",
       "  </thead>\n",
       "  <tbody>\n",
       "    <tr>\n",
       "      <th>0</th>\n",
       "      <td>111161</td>\n",
       "      <td>1.       The Shawshank Redemption (1994)</td>\n",
       "      <td>9.20000</td>\n",
       "      <td>1295382</td>\n",
       "      <td>600284</td>\n",
       "      <td>273091</td>\n",
       "      <td>87368</td>\n",
       "      <td>26184</td>\n",
       "      <td>13515</td>\n",
       "      <td>6561</td>\n",
       "      <td>4704</td>\n",
       "      <td>4355</td>\n",
       "      <td>34733</td>\n",
       "    </tr>\n",
       "    <tr>\n",
       "      <th>1</th>\n",
       "      <td>68646</td>\n",
       "      <td>2.       The Godfather (1972)</td>\n",
       "      <td>9.10000</td>\n",
       "      <td>837932</td>\n",
       "      <td>402527</td>\n",
       "      <td>199440</td>\n",
       "      <td>78541</td>\n",
       "      <td>30016</td>\n",
       "      <td>16603</td>\n",
       "      <td>8419</td>\n",
       "      <td>6268</td>\n",
       "      <td>5879</td>\n",
       "      <td>37128</td>\n",
       "    </tr>\n",
       "    <tr>\n",
       "      <th>2</th>\n",
       "      <td>71562</td>\n",
       "      <td>3.       The Godfather: Part II (1974)</td>\n",
       "      <td>9.00000</td>\n",
       "      <td>486356</td>\n",
       "      <td>324905</td>\n",
       "      <td>175507</td>\n",
       "      <td>70847</td>\n",
       "      <td>26349</td>\n",
       "      <td>12657</td>\n",
       "      <td>6210</td>\n",
       "      <td>4347</td>\n",
       "      <td>3892</td>\n",
       "      <td>20469</td>\n",
       "    </tr>\n",
       "    <tr>\n",
       "      <th>3</th>\n",
       "      <td>468569</td>\n",
       "      <td>4.       The Dark Knight (2008)</td>\n",
       "      <td>9.00000</td>\n",
       "      <td>1034863</td>\n",
       "      <td>649123</td>\n",
       "      <td>354610</td>\n",
       "      <td>137748</td>\n",
       "      <td>49483</td>\n",
       "      <td>23237</td>\n",
       "      <td>11429</td>\n",
       "      <td>8082</td>\n",
       "      <td>7173</td>\n",
       "      <td>30345</td>\n",
       "    </tr>\n",
       "    <tr>\n",
       "      <th>4</th>\n",
       "      <td>50083</td>\n",
       "      <td>5.       12 Angry Men (1957)</td>\n",
       "      <td>8.90000</td>\n",
       "      <td>246765</td>\n",
       "      <td>225437</td>\n",
       "      <td>133998</td>\n",
       "      <td>48341</td>\n",
       "      <td>15773</td>\n",
       "      <td>6278</td>\n",
       "      <td>2866</td>\n",
       "      <td>1723</td>\n",
       "      <td>1478</td>\n",
       "      <td>8318</td>\n",
       "    </tr>\n",
       "  </tbody>\n",
       "</table>\n",
       "</div>"
      ],
      "text/plain": [
       "       id                                 movieName  rating      ten    nine   eight   seven    six   five   four  three   two    one\n",
       "0  111161  1.       The Shawshank Redemption (1994) 9.20000  1295382  600284  273091   87368  26184  13515   6561   4704  4355  34733\n",
       "1   68646             2.       The Godfather (1972) 9.10000   837932  402527  199440   78541  30016  16603   8419   6268  5879  37128\n",
       "2   71562    3.       The Godfather: Part II (1974) 9.00000   486356  324905  175507   70847  26349  12657   6210   4347  3892  20469\n",
       "3  468569           4.       The Dark Knight (2008) 9.00000  1034863  649123  354610  137748  49483  23237  11429   8082  7173  30345\n",
       "4   50083              5.       12 Angry Men (1957) 8.90000   246765  225437  133998   48341  15773   6278   2866   1723  1478   8318"
      ]
     },
     "execution_count": 43,
     "metadata": {},
     "output_type": "execute_result"
    }
   ],
   "source": [
    "df_1.head()"
   ]
  },
  {
   "cell_type": "code",
   "execution_count": 44,
   "id": "17692eda",
   "metadata": {
    "execution": {
     "iopub.execute_input": "2023-06-16T21:08:27.460668Z",
     "iopub.status.busy": "2023-06-16T21:08:27.460208Z",
     "iopub.status.idle": "2023-06-16T21:08:27.739686Z",
     "shell.execute_reply": "2023-06-16T21:08:27.738600Z"
    },
    "papermill": {
     "duration": 0.312976,
     "end_time": "2023-06-16T21:08:27.742486",
     "exception": false,
     "start_time": "2023-06-16T21:08:27.429510",
     "status": "completed"
    },
    "tags": []
   },
   "outputs": [],
   "source": [
    "df_1[\"bar_score\"] = df_1.apply(lambda x: bayesian_average_rating(x[[\"one\", \"two\", \"three\", \"four\", \"five\",\n",
    "                                                                \"six\", \"seven\", \"eight\", \"nine\", \"ten\"]]), axis=1)"
   ]
  },
  {
   "cell_type": "code",
   "execution_count": 45,
   "id": "141f0ffb",
   "metadata": {
    "execution": {
     "iopub.execute_input": "2023-06-16T21:08:27.802855Z",
     "iopub.status.busy": "2023-06-16T21:08:27.802434Z",
     "iopub.status.idle": "2023-06-16T21:08:27.817952Z",
     "shell.execute_reply": "2023-06-16T21:08:27.816774Z"
    },
    "papermill": {
     "duration": 0.048761,
     "end_time": "2023-06-16T21:08:27.820215",
     "exception": false,
     "start_time": "2023-06-16T21:08:27.771454",
     "status": "completed"
    },
    "tags": []
   },
   "outputs": [
    {
     "data": {
      "text/html": [
       "<div>\n",
       "<style scoped>\n",
       "    .dataframe tbody tr th:only-of-type {\n",
       "        vertical-align: middle;\n",
       "    }\n",
       "\n",
       "    .dataframe tbody tr th {\n",
       "        vertical-align: top;\n",
       "    }\n",
       "\n",
       "    .dataframe thead th {\n",
       "        text-align: right;\n",
       "    }\n",
       "</style>\n",
       "<table border=\"1\" class=\"dataframe\">\n",
       "  <thead>\n",
       "    <tr style=\"text-align: right;\">\n",
       "      <th></th>\n",
       "      <th>id</th>\n",
       "      <th>movieName</th>\n",
       "      <th>rating</th>\n",
       "      <th>ten</th>\n",
       "      <th>nine</th>\n",
       "      <th>eight</th>\n",
       "      <th>seven</th>\n",
       "      <th>six</th>\n",
       "      <th>five</th>\n",
       "      <th>four</th>\n",
       "      <th>three</th>\n",
       "      <th>two</th>\n",
       "      <th>one</th>\n",
       "      <th>bar_score</th>\n",
       "    </tr>\n",
       "  </thead>\n",
       "  <tbody>\n",
       "    <tr>\n",
       "      <th>0</th>\n",
       "      <td>111161</td>\n",
       "      <td>1.       The Shawshank Redemption (1994)</td>\n",
       "      <td>9.20000</td>\n",
       "      <td>1295382</td>\n",
       "      <td>600284</td>\n",
       "      <td>273091</td>\n",
       "      <td>87368</td>\n",
       "      <td>26184</td>\n",
       "      <td>13515</td>\n",
       "      <td>6561</td>\n",
       "      <td>4704</td>\n",
       "      <td>4355</td>\n",
       "      <td>34733</td>\n",
       "      <td>9.14539</td>\n",
       "    </tr>\n",
       "    <tr>\n",
       "      <th>1</th>\n",
       "      <td>68646</td>\n",
       "      <td>2.       The Godfather (1972)</td>\n",
       "      <td>9.10000</td>\n",
       "      <td>837932</td>\n",
       "      <td>402527</td>\n",
       "      <td>199440</td>\n",
       "      <td>78541</td>\n",
       "      <td>30016</td>\n",
       "      <td>16603</td>\n",
       "      <td>8419</td>\n",
       "      <td>6268</td>\n",
       "      <td>5879</td>\n",
       "      <td>37128</td>\n",
       "      <td>8.94002</td>\n",
       "    </tr>\n",
       "    <tr>\n",
       "      <th>2</th>\n",
       "      <td>71562</td>\n",
       "      <td>3.       The Godfather: Part II (1974)</td>\n",
       "      <td>9.00000</td>\n",
       "      <td>486356</td>\n",
       "      <td>324905</td>\n",
       "      <td>175507</td>\n",
       "      <td>70847</td>\n",
       "      <td>26349</td>\n",
       "      <td>12657</td>\n",
       "      <td>6210</td>\n",
       "      <td>4347</td>\n",
       "      <td>3892</td>\n",
       "      <td>20469</td>\n",
       "      <td>8.81250</td>\n",
       "    </tr>\n",
       "    <tr>\n",
       "      <th>3</th>\n",
       "      <td>468569</td>\n",
       "      <td>4.       The Dark Knight (2008)</td>\n",
       "      <td>9.00000</td>\n",
       "      <td>1034863</td>\n",
       "      <td>649123</td>\n",
       "      <td>354610</td>\n",
       "      <td>137748</td>\n",
       "      <td>49483</td>\n",
       "      <td>23237</td>\n",
       "      <td>11429</td>\n",
       "      <td>8082</td>\n",
       "      <td>7173</td>\n",
       "      <td>30345</td>\n",
       "      <td>8.89596</td>\n",
       "    </tr>\n",
       "    <tr>\n",
       "      <th>4</th>\n",
       "      <td>50083</td>\n",
       "      <td>5.       12 Angry Men (1957)</td>\n",
       "      <td>8.90000</td>\n",
       "      <td>246765</td>\n",
       "      <td>225437</td>\n",
       "      <td>133998</td>\n",
       "      <td>48341</td>\n",
       "      <td>15773</td>\n",
       "      <td>6278</td>\n",
       "      <td>2866</td>\n",
       "      <td>1723</td>\n",
       "      <td>1478</td>\n",
       "      <td>8318</td>\n",
       "      <td>8.76793</td>\n",
       "    </tr>\n",
       "  </tbody>\n",
       "</table>\n",
       "</div>"
      ],
      "text/plain": [
       "       id                                 movieName  rating      ten    nine   eight   seven    six   five   four  three   two    one  bar_score\n",
       "0  111161  1.       The Shawshank Redemption (1994) 9.20000  1295382  600284  273091   87368  26184  13515   6561   4704  4355  34733    9.14539\n",
       "1   68646             2.       The Godfather (1972) 9.10000   837932  402527  199440   78541  30016  16603   8419   6268  5879  37128    8.94002\n",
       "2   71562    3.       The Godfather: Part II (1974) 9.00000   486356  324905  175507   70847  26349  12657   6210   4347  3892  20469    8.81250\n",
       "3  468569           4.       The Dark Knight (2008) 9.00000  1034863  649123  354610  137748  49483  23237  11429   8082  7173  30345    8.89596\n",
       "4   50083              5.       12 Angry Men (1957) 8.90000   246765  225437  133998   48341  15773   6278   2866   1723  1478   8318    8.76793"
      ]
     },
     "execution_count": 45,
     "metadata": {},
     "output_type": "execute_result"
    }
   ],
   "source": [
    "df_1.head()"
   ]
  },
  {
   "cell_type": "code",
   "execution_count": 46,
   "id": "b0228a7e",
   "metadata": {
    "execution": {
     "iopub.execute_input": "2023-06-16T21:08:27.880724Z",
     "iopub.status.busy": "2023-06-16T21:08:27.880099Z",
     "iopub.status.idle": "2023-06-16T21:08:27.900236Z",
     "shell.execute_reply": "2023-06-16T21:08:27.898955Z"
    },
    "papermill": {
     "duration": 0.053158,
     "end_time": "2023-06-16T21:08:27.902777",
     "exception": false,
     "start_time": "2023-06-16T21:08:27.849619",
     "status": "completed"
    },
    "tags": []
   },
   "outputs": [
    {
     "data": {
      "text/html": [
       "<div>\n",
       "<style scoped>\n",
       "    .dataframe tbody tr th:only-of-type {\n",
       "        vertical-align: middle;\n",
       "    }\n",
       "\n",
       "    .dataframe tbody tr th {\n",
       "        vertical-align: top;\n",
       "    }\n",
       "\n",
       "    .dataframe thead th {\n",
       "        text-align: right;\n",
       "    }\n",
       "</style>\n",
       "<table border=\"1\" class=\"dataframe\">\n",
       "  <thead>\n",
       "    <tr style=\"text-align: right;\">\n",
       "      <th></th>\n",
       "      <th>id</th>\n",
       "      <th>movieName</th>\n",
       "      <th>rating</th>\n",
       "      <th>ten</th>\n",
       "      <th>nine</th>\n",
       "      <th>eight</th>\n",
       "      <th>seven</th>\n",
       "      <th>six</th>\n",
       "      <th>five</th>\n",
       "      <th>four</th>\n",
       "      <th>three</th>\n",
       "      <th>two</th>\n",
       "      <th>one</th>\n",
       "      <th>bar_score</th>\n",
       "    </tr>\n",
       "  </thead>\n",
       "  <tbody>\n",
       "    <tr>\n",
       "      <th>0</th>\n",
       "      <td>111161</td>\n",
       "      <td>1.       The Shawshank Redemption (1994)</td>\n",
       "      <td>9.20000</td>\n",
       "      <td>1295382</td>\n",
       "      <td>600284</td>\n",
       "      <td>273091</td>\n",
       "      <td>87368</td>\n",
       "      <td>26184</td>\n",
       "      <td>13515</td>\n",
       "      <td>6561</td>\n",
       "      <td>4704</td>\n",
       "      <td>4355</td>\n",
       "      <td>34733</td>\n",
       "      <td>9.14539</td>\n",
       "    </tr>\n",
       "    <tr>\n",
       "      <th>1</th>\n",
       "      <td>68646</td>\n",
       "      <td>2.       The Godfather (1972)</td>\n",
       "      <td>9.10000</td>\n",
       "      <td>837932</td>\n",
       "      <td>402527</td>\n",
       "      <td>199440</td>\n",
       "      <td>78541</td>\n",
       "      <td>30016</td>\n",
       "      <td>16603</td>\n",
       "      <td>8419</td>\n",
       "      <td>6268</td>\n",
       "      <td>5879</td>\n",
       "      <td>37128</td>\n",
       "      <td>8.94002</td>\n",
       "    </tr>\n",
       "    <tr>\n",
       "      <th>3</th>\n",
       "      <td>468569</td>\n",
       "      <td>4.       The Dark Knight (2008)</td>\n",
       "      <td>9.00000</td>\n",
       "      <td>1034863</td>\n",
       "      <td>649123</td>\n",
       "      <td>354610</td>\n",
       "      <td>137748</td>\n",
       "      <td>49483</td>\n",
       "      <td>23237</td>\n",
       "      <td>11429</td>\n",
       "      <td>8082</td>\n",
       "      <td>7173</td>\n",
       "      <td>30345</td>\n",
       "      <td>8.89596</td>\n",
       "    </tr>\n",
       "    <tr>\n",
       "      <th>2</th>\n",
       "      <td>71562</td>\n",
       "      <td>3.       The Godfather: Part II (1974)</td>\n",
       "      <td>9.00000</td>\n",
       "      <td>486356</td>\n",
       "      <td>324905</td>\n",
       "      <td>175507</td>\n",
       "      <td>70847</td>\n",
       "      <td>26349</td>\n",
       "      <td>12657</td>\n",
       "      <td>6210</td>\n",
       "      <td>4347</td>\n",
       "      <td>3892</td>\n",
       "      <td>20469</td>\n",
       "      <td>8.81250</td>\n",
       "    </tr>\n",
       "    <tr>\n",
       "      <th>4</th>\n",
       "      <td>50083</td>\n",
       "      <td>5.       12 Angry Men (1957)</td>\n",
       "      <td>8.90000</td>\n",
       "      <td>246765</td>\n",
       "      <td>225437</td>\n",
       "      <td>133998</td>\n",
       "      <td>48341</td>\n",
       "      <td>15773</td>\n",
       "      <td>6278</td>\n",
       "      <td>2866</td>\n",
       "      <td>1723</td>\n",
       "      <td>1478</td>\n",
       "      <td>8318</td>\n",
       "      <td>8.76793</td>\n",
       "    </tr>\n",
       "    <tr>\n",
       "      <th>6</th>\n",
       "      <td>167260</td>\n",
       "      <td>7.       The Lord of the Rings: The Return of ...</td>\n",
       "      <td>8.90000</td>\n",
       "      <td>703093</td>\n",
       "      <td>433087</td>\n",
       "      <td>270113</td>\n",
       "      <td>117411</td>\n",
       "      <td>44760</td>\n",
       "      <td>21818</td>\n",
       "      <td>10873</td>\n",
       "      <td>7987</td>\n",
       "      <td>6554</td>\n",
       "      <td>28990</td>\n",
       "      <td>8.75204</td>\n",
       "    </tr>\n",
       "    <tr>\n",
       "      <th>5</th>\n",
       "      <td>108052</td>\n",
       "      <td>6.       Schindler's List (1993)</td>\n",
       "      <td>8.90000</td>\n",
       "      <td>453906</td>\n",
       "      <td>383584</td>\n",
       "      <td>220586</td>\n",
       "      <td>82367</td>\n",
       "      <td>27219</td>\n",
       "      <td>12922</td>\n",
       "      <td>6234</td>\n",
       "      <td>4572</td>\n",
       "      <td>4289</td>\n",
       "      <td>19328</td>\n",
       "      <td>8.74361</td>\n",
       "    </tr>\n",
       "    <tr>\n",
       "      <th>11</th>\n",
       "      <td>109830</td>\n",
       "      <td>12.       Forrest Gump (1994)</td>\n",
       "      <td>8.80000</td>\n",
       "      <td>622104</td>\n",
       "      <td>553654</td>\n",
       "      <td>373644</td>\n",
       "      <td>151284</td>\n",
       "      <td>51140</td>\n",
       "      <td>22720</td>\n",
       "      <td>11692</td>\n",
       "      <td>7647</td>\n",
       "      <td>5941</td>\n",
       "      <td>12110</td>\n",
       "      <td>8.69915</td>\n",
       "    </tr>\n",
       "    <tr>\n",
       "      <th>12</th>\n",
       "      <td>1375666</td>\n",
       "      <td>13.       Inception (2010)</td>\n",
       "      <td>8.70000</td>\n",
       "      <td>724798</td>\n",
       "      <td>627987</td>\n",
       "      <td>408686</td>\n",
       "      <td>174229</td>\n",
       "      <td>60668</td>\n",
       "      <td>26910</td>\n",
       "      <td>13436</td>\n",
       "      <td>8703</td>\n",
       "      <td>6932</td>\n",
       "      <td>17621</td>\n",
       "      <td>8.69315</td>\n",
       "    </tr>\n",
       "    <tr>\n",
       "      <th>10</th>\n",
       "      <td>137523</td>\n",
       "      <td>11.       Fight Club (1999)</td>\n",
       "      <td>8.80000</td>\n",
       "      <td>637087</td>\n",
       "      <td>572654</td>\n",
       "      <td>371752</td>\n",
       "      <td>152295</td>\n",
       "      <td>53059</td>\n",
       "      <td>24755</td>\n",
       "      <td>12648</td>\n",
       "      <td>8606</td>\n",
       "      <td>6948</td>\n",
       "      <td>17435</td>\n",
       "      <td>8.67448</td>\n",
       "    </tr>\n",
       "    <tr>\n",
       "      <th>7</th>\n",
       "      <td>110912</td>\n",
       "      <td>8.       Pulp Fiction (1994)</td>\n",
       "      <td>8.80000</td>\n",
       "      <td>674884</td>\n",
       "      <td>541946</td>\n",
       "      <td>332876</td>\n",
       "      <td>140886</td>\n",
       "      <td>52091</td>\n",
       "      <td>26828</td>\n",
       "      <td>14203</td>\n",
       "      <td>10425</td>\n",
       "      <td>8912</td>\n",
       "      <td>25610</td>\n",
       "      <td>8.66717</td>\n",
       "    </tr>\n",
       "    <tr>\n",
       "      <th>9</th>\n",
       "      <td>120737</td>\n",
       "      <td>10.       The Lord of the Rings: The Fellowshi...</td>\n",
       "      <td>8.80000</td>\n",
       "      <td>631020</td>\n",
       "      <td>460809</td>\n",
       "      <td>316221</td>\n",
       "      <td>132929</td>\n",
       "      <td>46699</td>\n",
       "      <td>22658</td>\n",
       "      <td>11002</td>\n",
       "      <td>8295</td>\n",
       "      <td>6911</td>\n",
       "      <td>27013</td>\n",
       "      <td>8.66617</td>\n",
       "    </tr>\n",
       "    <tr>\n",
       "      <th>8</th>\n",
       "      <td>60196</td>\n",
       "      <td>9.       Il buono, il brutto, il cattivo (1966)</td>\n",
       "      <td>8.80000</td>\n",
       "      <td>246549</td>\n",
       "      <td>199725</td>\n",
       "      <td>138309</td>\n",
       "      <td>58595</td>\n",
       "      <td>18777</td>\n",
       "      <td>8607</td>\n",
       "      <td>3903</td>\n",
       "      <td>2451</td>\n",
       "      <td>2032</td>\n",
       "      <td>10319</td>\n",
       "      <td>8.66143</td>\n",
       "    </tr>\n",
       "    <tr>\n",
       "      <th>28</th>\n",
       "      <td>816692</td>\n",
       "      <td>29.       Interstellar (2014)</td>\n",
       "      <td>8.50000</td>\n",
       "      <td>541682</td>\n",
       "      <td>412079</td>\n",
       "      <td>292240</td>\n",
       "      <td>149125</td>\n",
       "      <td>57253</td>\n",
       "      <td>24501</td>\n",
       "      <td>12271</td>\n",
       "      <td>7595</td>\n",
       "      <td>5618</td>\n",
       "      <td>12841</td>\n",
       "      <td>8.62289</td>\n",
       "    </tr>\n",
       "    <tr>\n",
       "      <th>13</th>\n",
       "      <td>167261</td>\n",
       "      <td>14.       The Lord of the Rings: The Two Tower...</td>\n",
       "      <td>8.70000</td>\n",
       "      <td>517453</td>\n",
       "      <td>420229</td>\n",
       "      <td>310443</td>\n",
       "      <td>130399</td>\n",
       "      <td>44743</td>\n",
       "      <td>20787</td>\n",
       "      <td>9690</td>\n",
       "      <td>6815</td>\n",
       "      <td>5851</td>\n",
       "      <td>20950</td>\n",
       "      <td>8.61475</td>\n",
       "    </tr>\n",
       "    <tr>\n",
       "      <th>14</th>\n",
       "      <td>80684</td>\n",
       "      <td>15.       Star Wars: Episode V - The Empire St...</td>\n",
       "      <td>8.70000</td>\n",
       "      <td>400167</td>\n",
       "      <td>317719</td>\n",
       "      <td>248795</td>\n",
       "      <td>111143</td>\n",
       "      <td>36699</td>\n",
       "      <td>15938</td>\n",
       "      <td>6812</td>\n",
       "      <td>4344</td>\n",
       "      <td>3556</td>\n",
       "      <td>15568</td>\n",
       "      <td>8.60564</td>\n",
       "    </tr>\n",
       "    <tr>\n",
       "      <th>16</th>\n",
       "      <td>99685</td>\n",
       "      <td>17.       Goodfellas (1990)</td>\n",
       "      <td>8.60000</td>\n",
       "      <td>288944</td>\n",
       "      <td>321818</td>\n",
       "      <td>252107</td>\n",
       "      <td>101041</td>\n",
       "      <td>29875</td>\n",
       "      <td>11432</td>\n",
       "      <td>5127</td>\n",
       "      <td>3202</td>\n",
       "      <td>2327</td>\n",
       "      <td>6472</td>\n",
       "      <td>8.59279</td>\n",
       "    </tr>\n",
       "    <tr>\n",
       "      <th>17</th>\n",
       "      <td>73486</td>\n",
       "      <td>18.       One Flew Over the Cuckoo's Nest (1975)</td>\n",
       "      <td>8.60000</td>\n",
       "      <td>253488</td>\n",
       "      <td>294955</td>\n",
       "      <td>226631</td>\n",
       "      <td>90925</td>\n",
       "      <td>27027</td>\n",
       "      <td>10438</td>\n",
       "      <td>4679</td>\n",
       "      <td>2510</td>\n",
       "      <td>1936</td>\n",
       "      <td>6587</td>\n",
       "      <td>8.58093</td>\n",
       "    </tr>\n",
       "    <tr>\n",
       "      <th>20</th>\n",
       "      <td>118799</td>\n",
       "      <td>21.       La vita è bella (1997)</td>\n",
       "      <td>8.60000</td>\n",
       "      <td>198684</td>\n",
       "      <td>189402</td>\n",
       "      <td>133743</td>\n",
       "      <td>55912</td>\n",
       "      <td>19766</td>\n",
       "      <td>9232</td>\n",
       "      <td>4792</td>\n",
       "      <td>3011</td>\n",
       "      <td>2590</td>\n",
       "      <td>7419</td>\n",
       "      <td>8.57549</td>\n",
       "    </tr>\n",
       "    <tr>\n",
       "      <th>43</th>\n",
       "      <td>1675434</td>\n",
       "      <td>44.       The Intouchables (2011)</td>\n",
       "      <td>8.50000</td>\n",
       "      <td>202778</td>\n",
       "      <td>239677</td>\n",
       "      <td>194439</td>\n",
       "      <td>81087</td>\n",
       "      <td>23665</td>\n",
       "      <td>8439</td>\n",
       "      <td>3853</td>\n",
       "      <td>2161</td>\n",
       "      <td>1575</td>\n",
       "      <td>4129</td>\n",
       "      <td>8.55729</td>\n",
       "    </tr>\n",
       "  </tbody>\n",
       "</table>\n",
       "</div>"
      ],
      "text/plain": [
       "         id                                          movieName  rating      ten    nine   eight   seven    six   five   four  three   two    one  bar_score\n",
       "0    111161           1.       The Shawshank Redemption (1994) 9.20000  1295382  600284  273091   87368  26184  13515   6561   4704  4355  34733    9.14539\n",
       "1     68646                      2.       The Godfather (1972) 9.10000   837932  402527  199440   78541  30016  16603   8419   6268  5879  37128    8.94002\n",
       "3    468569                    4.       The Dark Knight (2008) 9.00000  1034863  649123  354610  137748  49483  23237  11429   8082  7173  30345    8.89596\n",
       "2     71562             3.       The Godfather: Part II (1974) 9.00000   486356  324905  175507   70847  26349  12657   6210   4347  3892  20469    8.81250\n",
       "4     50083                       5.       12 Angry Men (1957) 8.90000   246765  225437  133998   48341  15773   6278   2866   1723  1478   8318    8.76793\n",
       "6    167260  7.       The Lord of the Rings: The Return of ... 8.90000   703093  433087  270113  117411  44760  21818  10873   7987  6554  28990    8.75204\n",
       "5    108052                   6.       Schindler's List (1993) 8.90000   453906  383584  220586   82367  27219  12922   6234   4572  4289  19328    8.74361\n",
       "11   109830                      12.       Forrest Gump (1994) 8.80000   622104  553654  373644  151284  51140  22720  11692   7647  5941  12110    8.69915\n",
       "12  1375666                         13.       Inception (2010) 8.70000   724798  627987  408686  174229  60668  26910  13436   8703  6932  17621    8.69315\n",
       "10   137523                        11.       Fight Club (1999) 8.80000   637087  572654  371752  152295  53059  24755  12648   8606  6948  17435    8.67448\n",
       "7    110912                       8.       Pulp Fiction (1994) 8.80000   674884  541946  332876  140886  52091  26828  14203  10425  8912  25610    8.66717\n",
       "9    120737  10.       The Lord of the Rings: The Fellowshi... 8.80000   631020  460809  316221  132929  46699  22658  11002   8295  6911  27013    8.66617\n",
       "8     60196    9.       Il buono, il brutto, il cattivo (1966) 8.80000   246549  199725  138309   58595  18777   8607   3903   2451  2032  10319    8.66143\n",
       "28   816692                      29.       Interstellar (2014) 8.50000   541682  412079  292240  149125  57253  24501  12271   7595  5618  12841    8.62289\n",
       "13   167261  14.       The Lord of the Rings: The Two Tower... 8.70000   517453  420229  310443  130399  44743  20787   9690   6815  5851  20950    8.61475\n",
       "14    80684  15.       Star Wars: Episode V - The Empire St... 8.70000   400167  317719  248795  111143  36699  15938   6812   4344  3556  15568    8.60564\n",
       "16    99685                        17.       Goodfellas (1990) 8.60000   288944  321818  252107  101041  29875  11432   5127   3202  2327   6472    8.59279\n",
       "17    73486   18.       One Flew Over the Cuckoo's Nest (1975) 8.60000   253488  294955  226631   90925  27027  10438   4679   2510  1936   6587    8.58093\n",
       "20   118799                   21.       La vita è bella (1997) 8.60000   198684  189402  133743   55912  19766   9232   4792   3011  2590   7419    8.57549\n",
       "43  1675434                  44.       The Intouchables (2011) 8.50000   202778  239677  194439   81087  23665   8439   3853   2161  1575   4129    8.55729"
      ]
     },
     "execution_count": 46,
     "metadata": {},
     "output_type": "execute_result"
    }
   ],
   "source": [
    "df_1.sort_values(\"bar_score\", ascending=False).head(20)"
   ]
  }
 ],
 "metadata": {
  "kernelspec": {
   "display_name": "Python 3",
   "language": "python",
   "name": "python3"
  },
  "language_info": {
   "codemirror_mode": {
    "name": "ipython",
    "version": 3
   },
   "file_extension": ".py",
   "mimetype": "text/x-python",
   "name": "python",
   "nbconvert_exporter": "python",
   "pygments_lexer": "ipython3",
   "version": "3.10.10"
  },
  "papermill": {
   "default_parameters": {},
   "duration": 22.754782,
   "end_time": "2023-06-16T21:08:29.055883",
   "environment_variables": {},
   "exception": null,
   "input_path": "__notebook__.ipynb",
   "output_path": "__notebook__.ipynb",
   "parameters": {},
   "start_time": "2023-06-16T21:08:06.301101",
   "version": "2.4.0"
  }
 },
 "nbformat": 4,
 "nbformat_minor": 5
}
